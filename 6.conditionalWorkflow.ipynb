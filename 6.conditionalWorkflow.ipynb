{
 "cells": [
  {
   "cell_type": "code",
   "execution_count": 42,
   "id": "06e32ca6",
   "metadata": {},
   "outputs": [],
   "source": [
    "from langgraph.graph import StateGraph,START,END\n",
    "from typing import TypedDict,Literal"
   ]
  },
  {
   "cell_type": "code",
   "execution_count": 43,
   "id": "04e65acc",
   "metadata": {},
   "outputs": [],
   "source": [
    "class QuadState(TypedDict):\n",
    "\n",
    "    a:int\n",
    "    b:int\n",
    "    c:int\n",
    "    equation:str\n",
    "    discriminant:float\n",
    "    result:str"
   ]
  },
  {
   "cell_type": "code",
   "execution_count": 44,
   "id": "46160ae2",
   "metadata": {},
   "outputs": [],
   "source": [
    "import math\n",
    "\n",
    "def show_equation(state:QuadState)->QuadState:\n",
    "    equation=f\"{state['a']}x^2{state['b']}x{state['c']}\"\n",
    "\n",
    "    return {\"equation\":equation}\n",
    "\n",
    "\n",
    "def cal_discriminant(state:QuadState)->QuadState:\n",
    "    a=state['a']\n",
    "    b=state['b']\n",
    "    c=state['c']\n",
    "    discriminant=b**2- (4*a*c)\n",
    "\n",
    "    return{'discriminant':discriminant}"
   ]
  },
  {
   "cell_type": "code",
   "execution_count": 45,
   "id": "16a65a63",
   "metadata": {},
   "outputs": [],
   "source": [
    "def no_real_roots(state:QuadState)->QuadState:\n",
    "    result=f\"No real roots\"\n",
    "    return {\"result\":result}\n",
    "\n",
    "\n",
    "\n",
    "\n",
    "def real_roots(state:QuadState)->QuadState:\n",
    "    root1=(-state['b'] + state['discriminant']**0.5)/(2*state['a'])\n",
    "    root2=(-state['b'] - state['discriminant']**0.5)/(2*state['a'])\n",
    "    result=f\"The roots are {root1} and {root2}\"\n",
    "\n",
    "    return {\"result\":result}\n",
    "\n",
    "def repeated_roots(state:QuadState)->QuadState:\n",
    "    root =(-state['b'])/(2*state['a'])\n",
    "    result=f\"Only repeating roots are {root}\"\n",
    "\n",
    "    return {'result':result}\n",
    "\n",
    "def check_condition(state:QuadState)->Literal[\"real_roots\",\"repeated_roots\",\"no_real_roots\"]:\n",
    "    if state['discriminant']> 0:\n",
    "        return \"real_roots\"\n",
    "    elif state['discriminant']==0:\n",
    "        return \"repeated_roots\"\n",
    "    else:\n",
    "        return \"no_real_roots\"\n",
    "\n"
   ]
  },
  {
   "cell_type": "code",
   "execution_count": 46,
   "id": "be607465",
   "metadata": {},
   "outputs": [],
   "source": [
    "graph=StateGraph(QuadState)\n",
    "\n",
    "##NODES\n",
    "graph.add_node(\"show_equation\",show_equation)\n",
    "graph.add_node(\"cal_discriminant\",cal_discriminant)\n",
    "graph.add_node(\"no_real_roots\",no_real_roots)\n",
    "graph.add_node(\"real_roots\",real_roots)\n",
    "graph.add_node(\"repeated_roots\",repeated_roots)\n",
    "\n",
    "graph.add_edge(START,\"show_equation\")\n",
    "graph.add_edge('show_equation',\"cal_discriminant\")\n",
    "graph.add_conditional_edges('cal_discriminant',check_condition)\n",
    "graph.add_edge(\"no_real_roots\",END)\n",
    "graph.add_edge(\"real_roots\",END)\n",
    "graph.add_edge(\"repeated_roots\",END)\n",
    "\n",
    "\n",
    "\n",
    "\n",
    "\n",
    "\n",
    "workflow=graph.compile()"
   ]
  },
  {
   "cell_type": "code",
   "execution_count": 47,
   "id": "0c419cbd",
   "metadata": {},
   "outputs": [
    {
     "data": {
      "image/png": "[encoded data removed]",
      "text/plain": [
       "<IPython.core.display.Image object>"
      ]
     },
     "execution_count": 47,
     "metadata": {},
     "output_type": "execute_result"
    }
   ],
   "source": [
    "from IPython.display import Image\n",
    "Image(workflow.get_graph().draw_mermaid_png())"
   ]
  },
  {
   "cell_type": "code",
   "execution_count": 49,
   "id": "3f5f252b",
   "metadata": {},
   "outputs": [
    {
     "data": {
      "text/plain": [
       "{'a': 4,\n",
       " 'b': -6,\n",
       " 'c': -8,\n",
       " 'equation': '4x^2-6x-8',\n",
       " 'discriminant': 164,\n",
       " 'result': 'The roots are 2.350781059358212 and -0.8507810593582121'}"
      ]
     },
     "execution_count": 49,
     "metadata": {},
     "output_type": "execute_result"
    }
   ],
   "source": [
    "##Execution\n",
    "initial_state={\n",
    "    \"a\":4,\n",
    "    \"b\":-6,\n",
    "    \"c\":-8\n",
    "}\n",
    "\n",
    "workflow.invoke(initial_state)\n"
   ]
  }
 ],
 "metadata": {
  "kernelspec": {
   "display_name": "langenv",
   "language": "python",
   "name": "python3"
  },
  "language_info": {
   "codemirror_mode": {
    "name": "ipython",
    "version": 3
   },
   "file_extension": ".py",
   "mimetype": "text/x-python",
   "name": "python",
   "nbconvert_exporter": "python",
   "pygments_lexer": "ipython3",
   "version": "3.10.0"
  }
 },
 "nbformat": 4,
 "nbformat_minor": 5
}
