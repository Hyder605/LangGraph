{
 "cells": [
  {
   "cell_type": "code",
   "execution_count": 74,
   "id": "c7e64262",
   "metadata": {},
   "outputs": [],
   "source": [
    "from langgraph.graph import StateGraph, START, END\n",
    "from langchain_google_genai import ChatGoogleGenerativeAI\n",
    "from typing import TypedDict,Annotated,Literal\n",
    "from dotenv import load_dotenv, find_dotenv\n",
    "from pydantic import BaseModel, Field\n",
    "import operator"
   ]
  },
  {
   "cell_type": "code",
   "execution_count": null,
   "id": "57768685",
   "metadata": {},
   "outputs": [],
   "source": [
    "from typing import List, Literal\n",
    "\n",
    "\n",
    "class MangaFeatureSchema(BaseModel):\n",
    "    main_characters: List[str] = Field(\n",
    "        ..., description=\"List of main characters in the story, including roles or names.\"\n",
    "    )\n",
    "    \n",
    "    character_descriptions: List[str] = Field(\n",
    "        ..., description=\"Short descriptions of the characters’ traits, personalities, or roles.\"\n",
    "    )\n",
    "    \n",
    "    setting: str = Field(\n",
    "        ..., description=\"The primary setting or environment where the story takes place.\"\n",
    "    )\n",
    "    \n",
    "    conflict_or_goal: str = Field(\n",
    "        ..., description=\"The main conflict, tension, or goal driving the story.\"\n",
    "    )\n",
    "    \n",
    "    important_objects: List[str] = Field(\n",
    "        ..., description=\"Key objects, weapons, or magical items relevant to the story.\"\n",
    "    )\n",
    "    \n",
    "    mood_and_tone: List[\n",
    "        Literal[\"dramatic\", \"mysterious\", \"adventurous\", \"romantic\", \"comedic\", \"emotional\", \"dark\"]\n",
    "    ] = Field(\n",
    "        ..., description=\"Keywords describing the mood and tone of the story.\"\n",
    "    )\n",
    "    \n",
    "    key_sound_effects_and_emotions: List[str] = Field(\n",
    "        ..., description=\"Important sound effects (onomatopoeia) and strong emotions expressed in the story.\"\n",
    "    )\n"
   ]
  },
  {
   "cell_type": "code",
   "execution_count": 75,
   "id": "5117a756",
   "metadata": {},
   "outputs": [],
   "source": [
    "class SchemaSentiment(BaseModel):\n",
    "    sentiment:Literal[\"positive\",\"negative\"]=Field(description=\"sentiment of the review\")"
   ]
  },
  {
   "cell_type": "code",
   "execution_count": 76,
   "id": "0f6135fa",
   "metadata": {},
   "outputs": [],
   "source": [
    "class SchemaForDiagnosis(BaseModel):\n",
    "    issue_type: Literal[\n",
    "        \"technical\", \"billing\", \"feedback\", \"account\", \"other\"\n",
    "    ] = Field(..., description=\"Type of issue reported by the user.\")\n",
    "    \n",
    "    tone: Literal[\n",
    "        \"angry\", \"polite\", \"neutral\", \"frustrated\", \"curious\"\n",
    "    ] = Field(..., description=\"User's tone based on their message.\")\n",
    "    \n",
    "    urgency: Literal[\n",
    "        \"low\", \"medium\", \"high\", \"critical\", \"immediate\"\n",
    "    ] = Field(..., description=\"How urgent the issue is based on user input.\")"
   ]
  },
  {
   "cell_type": "code",
   "execution_count": 77,
   "id": "87729479",
   "metadata": {},
   "outputs": [],
   "source": [
    "_: bool = load_dotenv(find_dotenv())\n",
    "\n",
    "model = ChatGoogleGenerativeAI(model=\"gemini-2.0-flash-exp\")\n",
    "structured_model=model.with_structured_output(SchemaSentiment)\n",
    "structured_model_for_Diagnose=model.with_structured_output(SchemaForDiagnosis)"
   ]
  },
  {
   "cell_type": "code",
   "execution_count": 78,
   "id": "06edb84a",
   "metadata": {},
   "outputs": [
    {
     "data": {
      "text/plain": [
       "SchemaSentiment(sentiment='negative')"
      ]
     },
     "execution_count": 78,
     "metadata": {},
     "output_type": "execute_result"
    }
   ],
   "source": [
    "prompt=\"what is the review of this- I don't like this movie\"\n",
    "structured_model.invoke(prompt)"
   ]
  },
  {
   "cell_type": "code",
   "execution_count": 79,
   "id": "38d159b8",
   "metadata": {},
   "outputs": [],
   "source": [
    "class ReviewState(TypedDict):\n",
    "    review:str\n",
    "    sentiment:Literal[\"positive\",\"negative\"]\n",
    "    daignosis:dict\n",
    "    response:str"
   ]
  },
  {
   "cell_type": "code",
   "execution_count": 80,
   "id": "62cfa825",
   "metadata": {},
   "outputs": [],
   "source": [
    "def sentiment_output(state:ReviewState)->ReviewState:\n",
    "\n",
    "    review=state['review']\n",
    "    prompt=f\"what is the sentiment of this review \\n {review}\"\n",
    "    output=structured_model.invoke(prompt).sentiment\n",
    "\n",
    "    return {\"sentiment\":output}"
   ]
  },
  {
   "cell_type": "code",
   "execution_count": 81,
   "id": "b37debd6",
   "metadata": {},
   "outputs": [],
   "source": [
    "def check_sentiment(state:ReviewState)->Literal[\"positive_response\",\"run_diagnosis\"]:\n",
    "    if state['sentiment']==\"positive\":\n",
    "        return \"positive_response\"\n",
    "    else:\n",
    "        return \"run_diagnosis\""
   ]
  },
  {
   "cell_type": "code",
   "execution_count": 82,
   "id": "cc477487",
   "metadata": {},
   "outputs": [],
   "source": [
    "def positive_response(state:ReviewState):\n",
    "    review=state['review']\n",
    "    prompt=f\"Write a a thank you message with kindness for this review {review}.JUST write thankful message\"\n",
    "\n",
    "    output=model.invoke(prompt).content\n",
    "    return {\"response\":output}\n",
    "\n",
    "def run_diagnosis(state:ReviewState):\n",
    "    review=state['review']\n",
    "    prompt=f'''Diagnose the negative review {review} \\n \n",
    "    And return issue_type,tone and urgency\n",
    "    '''\n",
    "    output=structured_model_for_Diagnose.invoke(prompt)\n",
    "\n",
    "    return {\"daignosis\":output.model_dump()}\n",
    "\n",
    "\n",
    "def negative_response(state:ReviewState):\n",
    "    diagnosis=state[\"daignosis\"]\n",
    "    prompt=f'''You are a customer support assistant. Based on the following user diagnosis details, write a helpful, empathetic, and professional support message in response to the user:\n",
    "\n",
    "    1. issue_type: {diagnosis[\"issue_type\"]}\n",
    "    2. tone: {diagnosis[\"tone\"]}\n",
    "    3. urgency: {diagnosis[\"urgency\"]}\n",
    "\n",
    "    Your message should:\n",
    "    - Acknowledge the user's concern and tone\n",
    "    - Reflect empathy and urgency appropriately\n",
    "    - Offer a clear next step or reassurance\n",
    "\n",
    "        '''\n",
    "    output=model.invoke(prompt).content\n",
    "\n",
    "    return {\"response\":output}\n"
   ]
  },
  {
   "cell_type": "code",
   "execution_count": 83,
   "id": "bbdac802",
   "metadata": {},
   "outputs": [],
   "source": [
    "graph=StateGraph(ReviewState)\n",
    "\n",
    "##NOdes\n",
    "graph.add_node(\"sentiment_output\",sentiment_output)\n",
    "graph.add_node(\"positive_response\",positive_response)\n",
    "graph.add_node(\"run_diagnosis\",run_diagnosis)\n",
    "\n",
    "graph.add_node(\"negative_response\",negative_response)\n",
    "\n",
    "\n",
    "\n",
    "\n",
    "graph.add_edge(START,'sentiment_output')\n",
    "graph.add_conditional_edges('sentiment_output',check_sentiment)\n",
    "graph.add_edge(\"positive_response\",END)\n",
    "graph.add_edge(\"run_diagnosis\",\"negative_response\")\n",
    "graph.add_edge(\"negative_response\",END)\n",
    "\n",
    "\n",
    "\n",
    "workflow=graph.compile()\n",
    "\n"
   ]
  },
  {
   "cell_type": "code",
   "execution_count": 84,
   "id": "6d6c07ac",
   "metadata": {},
   "outputs": [
    {
     "data": {
      "image/png": "[encoded data removed]",
      "text/plain": [
       "<IPython.core.display.Image object>"
      ]
     },
     "execution_count": 84,
     "metadata": {},
     "output_type": "execute_result"
    }
   ],
   "source": [
    "from IPython.display import Image\n",
    "Image(workflow.get_graph().draw_mermaid_png())"
   ]
  },
  {
   "cell_type": "code",
   "execution_count": 86,
   "id": "c14453c3",
   "metadata": {},
   "outputs": [
    {
     "data": {
      "text/plain": [
       "{'review': 'Really disappointed with the service. The app kept crashing, and support took forever to respond. Not what I expected',\n",
       " 'sentiment': 'negative',\n",
       " 'daignosis': {'issue_type': 'technical', 'tone': 'angry', 'urgency': 'high'},\n",
       " 'response': 'Subject: Urgent: Regarding your technical issue - We\\'re on it!\\n\\nDear [User Name - if available, otherwise omit],\\n\\nI understand you\\'re experiencing a technical issue and, judging by your message, that you\\'re understandably frustrated. I want to assure you that we take this very seriously and are committed to resolving this for you as quickly as possible.\\n\\nI know how disruptive technical problems can be, especially when time is of the essence. Please know that your issue has been flagged as high priority and I\\'m personally making sure it gets immediate attention.\\n\\nTo help us get to the bottom of this right away, could you please [Insert specific next step, e.g., \"reply to this email with your account ID\" or \"provide a screenshot of the error message you are seeing\"?].\\n\\nAlternatively, if you prefer to speak with someone directly, please call us immediately at [Phone Number] and reference this email so the support agent is aware of the urgency.\\n\\nWe are doing everything we can to resolve this for you and will keep you updated on our progress.\\n\\nSincerely,\\n\\nThe [Your Company Name] Support Team'}"
      ]
     },
     "execution_count": 86,
     "metadata": {},
     "output_type": "execute_result"
    }
   ],
   "source": [
    "initial_state={\n",
    "    'review':\"Really disappointed with the service. The app kept crashing, and support took forever to respond. Not what I expected\"\n",
    "}\n",
    "\n",
    "workflow.invoke(initial_state)"
   ]
  },
  {
   "cell_type": "code",
   "execution_count": null,
   "id": "a712a57c",
   "metadata": {},
   "outputs": [],
   "source": []
  }
 ],
 "metadata": {
  "kernelspec": {
   "display_name": "langenv",
   "language": "python",
   "name": "python3"
  },
  "language_info": {
   "codemirror_mode": {
    "name": "ipython",
    "version": 3
   },
   "file_extension": ".py",
   "mimetype": "text/x-python",
   "name": "python",
   "nbconvert_exporter": "python",
   "pygments_lexer": "ipython3",
   "version": "3.10.0"
  }
 },
 "nbformat": 4,
 "nbformat_minor": 5
}
