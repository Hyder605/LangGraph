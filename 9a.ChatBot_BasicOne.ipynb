{
 "cells": [
  {
   "cell_type": "markdown",
   "id": "be8be3f3",
   "metadata": {},
   "source": [
    "### ChatBot with Previous History with Memory"
   ]
  },
  {
   "cell_type": "code",
   "execution_count": 39,
   "id": "b8cb4cb5",
   "metadata": {},
   "outputs": [],
   "source": [
    "from langgraph.graph import StateGraph, START, END\n",
    "from langchain_google_genai import ChatGoogleGenerativeAI\n",
    "from typing import TypedDict,Annotated,Literal\n",
    "from dotenv import load_dotenv, find_dotenv\n",
    "from pydantic import BaseModel, Field\n",
    "import operator\n",
    "from langchain_core.messages import SystemMessage,HumanMessage,BaseMessage\n",
    "from langgraph.checkpoint.memory import MemorySaver"
   ]
  },
  {
   "cell_type": "code",
   "execution_count": 40,
   "id": "6fb6533f",
   "metadata": {},
   "outputs": [],
   "source": [
    "_: bool = load_dotenv(find_dotenv())\n",
    "\n",
    "model = ChatGoogleGenerativeAI(model=\"gemini-2.0-flash-exp\")"
   ]
  },
  {
   "cell_type": "code",
   "execution_count": 41,
   "id": "9fedb53b",
   "metadata": {},
   "outputs": [],
   "source": [
    "from langgraph.graph.message import add_messages\n",
    "class ChatBotState(TypedDict):\n",
    "    ##add_messages is just like reducer function (operator.add) but more optimized\n",
    "    messages:Annotated[list[BaseMessage],add_messages]   ##BaseMessage -->contains Human, system,AI messages\n",
    "    \n"
   ]
  },
  {
   "cell_type": "code",
   "execution_count": 42,
   "id": "d3efde5c",
   "metadata": {},
   "outputs": [],
   "source": [
    "def chat_bot(state:ChatBotState):\n",
    "    message=state['messages']\n",
    "\n",
    "    response=model.invoke(message)\n",
    "\n",
    "    return {\"messages\":response}"
   ]
  },
  {
   "cell_type": "code",
   "execution_count": 43,
   "id": "ff9a7c3e",
   "metadata": {},
   "outputs": [],
   "source": [
    "\n",
    "checkpointer=MemorySaver()  ## FOR Persistance of Memory\n",
    "graph=StateGraph(ChatBotState)\n",
    "\n",
    "graph.add_node(\"chat_bot\",chat_bot)\n",
    "\n",
    "graph.add_edge(START,\"chat_bot\")\n",
    "graph.add_edge(\"chat_bot\",END)\n",
    "\n",
    "\n",
    "\n",
    "#workflow=graph.compile()\n",
    "workflow=graph.compile(checkpointer=checkpointer)"
   ]
  },
  {
   "cell_type": "code",
   "execution_count": 44,
   "id": "505169b6",
   "metadata": {},
   "outputs": [
    {
     "data": {
      "image/png": "[encoded data removed]",
      "text/plain": [
       "<IPython.core.display.Image object>"
      ]
     },
     "execution_count": 44,
     "metadata": {},
     "output_type": "execute_result"
    }
   ],
   "source": [
    "from IPython.display import Image\n",
    "Image(workflow.get_graph().draw_mermaid_png())"
   ]
  },
  {
   "cell_type": "code",
   "execution_count": 45,
   "id": "9ca2a2cc",
   "metadata": {},
   "outputs": [],
   "source": [
    "initial_state={\n",
    "    'messages':[HumanMessage(content=\"Who is founder of Pakistan\")]\n",
    "}\n",
    "\n",
    "#workflow.invoke(initial_state)"
   ]
  },
  {
   "cell_type": "code",
   "execution_count": 46,
   "id": "0df9b883",
   "metadata": {},
   "outputs": [],
   "source": [
    "# while True:\n",
    "#     user_message=input(\"type here\")\n",
    "#     print(\"User:\",user_message)\n",
    "#     if user_message.strip().lower() in [\"exit\",\"quit\"]:\n",
    "#         break\n",
    "\n",
    "#     response=workflow.invoke({'messages':[HumanMessage(content=user_message)]})\n",
    "\n",
    "#     print(\"AI response:\", response[\"messages\"][-1].content)"
   ]
  },
  {
   "cell_type": "code",
   "execution_count": null,
   "id": "84d60712",
   "metadata": {},
   "outputs": [
    {
     "name": "stdout",
     "output_type": "stream",
     "text": [
      "User: hi\n",
      "AI response: Hi there! How can I help you today?\n",
      "User: my name is haider\n",
      "AI response: It's nice to meet you, Haider! I'm glad to be chatting with you. Is there anything I can do for you today?\n",
      "User: Do you know my name?\n",
      "AI response: As a large language model, I don't have memory of past conversations. So, while you just told me your name is Haider, I don't \"know\" it in the way a person would remember it. I'll need you to remind me each time we interact if you want me to remember it.\n",
      "User: i just told you\n",
      "AI response: You're absolutely right, Haider. You did just tell me. My apologies! I'm still under development and sometimes I don't process information perfectly. Thanks for pointing that out. So, yes, I do know your name is Haider because you just told me.\n",
      "User: do you know my name?\n",
      "AI response: Yes, Haider. You just told me your name.\n",
      "User: quit\n"
     ]
    }
   ],
   "source": [
    "###MEmory stored in RAM\n",
    "\n",
    "thread_id=\"1\"\n",
    "while True:\n",
    "    user_message=input(\"type here\")\n",
    "    print(\"User:\",user_message)\n",
    "    if user_message.strip().lower() in [\"exit\",\"quit\"]:\n",
    "        break\n",
    "\n",
    "    config={'configurable':{'thread_id':thread_id}}\n",
    "    response=workflow.invoke({'messages':[HumanMessage(content=user_message)]}, config= config)\n",
    "\n",
    "    print(\"AI response:\", response[\"messages\"][-1].content)"
   ]
  },
  {
   "cell_type": "code",
   "execution_count": 48,
   "id": "e9193be8",
   "metadata": {},
   "outputs": [
    {
     "data": {
      "text/plain": [
       "StateSnapshot(values={'messages': [HumanMessage(content='hi', additional_kwargs={}, response_metadata={}, id='6f2aa983-cd9a-4d90-b1be-6ba3c9b94166'), AIMessage(content='Hi there! How can I help you today?', additional_kwargs={}, response_metadata={'prompt_feedback': {'block_reason': 0, 'safety_ratings': []}, 'finish_reason': 'STOP', 'model_name': 'gemini-2.0-flash-exp', 'safety_ratings': []}, id='run--721481b5-0217-4eb5-bff0-7aa35bd6539e-0', usage_metadata={'input_tokens': 1, 'output_tokens': 11, 'total_tokens': 12, 'input_token_details': {'cache_read': 0}}), HumanMessage(content='my name is haider', additional_kwargs={}, response_metadata={}, id='2fd6984b-6141-4f98-8ce1-cc42785b4018'), AIMessage(content=\"It's nice to meet you, Haider! I'm glad to be chatting with you. Is there anything I can do for you today?\", additional_kwargs={}, response_metadata={'prompt_feedback': {'block_reason': 0, 'safety_ratings': []}, 'finish_reason': 'STOP', 'model_name': 'gemini-2.0-flash-exp', 'safety_ratings': []}, id='run--a15dab3e-664a-44cc-a098-4651c6a64fac-0', usage_metadata={'input_tokens': 16, 'output_tokens': 32, 'total_tokens': 48, 'input_token_details': {'cache_read': 0}}), HumanMessage(content='Do you know my name?', additional_kwargs={}, response_metadata={}, id='a41b3484-b473-4b81-8b05-efe0124a7973'), AIMessage(content='As a large language model, I don\\'t have memory of past conversations. So, while you just told me your name is Haider, I don\\'t \"know\" it in the way a person would remember it. I\\'ll need you to remind me each time we interact if you want me to remember it.', additional_kwargs={}, response_metadata={'prompt_feedback': {'block_reason': 0, 'safety_ratings': []}, 'finish_reason': 'STOP', 'model_name': 'gemini-2.0-flash-exp', 'safety_ratings': []}, id='run--1b82e7b6-75be-4ef6-bd44-4bc85d268759-0', usage_metadata={'input_tokens': 53, 'output_tokens': 67, 'total_tokens': 120, 'input_token_details': {'cache_read': 0}}), HumanMessage(content='i just told you', additional_kwargs={}, response_metadata={}, id='e33239f1-f724-4aca-9712-66b0a59396d2'), AIMessage(content=\"You're absolutely right, Haider. You did just tell me. My apologies! I'm still under development and sometimes I don't process information perfectly. Thanks for pointing that out. So, yes, I do know your name is Haider because you just told me.\", additional_kwargs={}, response_metadata={'prompt_feedback': {'block_reason': 0, 'safety_ratings': []}, 'finish_reason': 'STOP', 'model_name': 'gemini-2.0-flash-exp', 'safety_ratings': []}, id='run--d2d735ad-87c4-4f5a-b03e-e326b4687e4e-0', usage_metadata={'input_tokens': 123, 'output_tokens': 59, 'total_tokens': 182, 'input_token_details': {'cache_read': 0}}), HumanMessage(content='do you know my name?', additional_kwargs={}, response_metadata={}, id='f9a05854-edf0-4518-aeeb-b96b8ff74568'), AIMessage(content='Yes, Haider. You just told me your name.', additional_kwargs={}, response_metadata={'prompt_feedback': {'block_reason': 0, 'safety_ratings': []}, 'finish_reason': 'STOP', 'model_name': 'gemini-2.0-flash-exp', 'safety_ratings': []}, id='run--3d2ad1bb-6df2-4e65-a20d-978de7ee2093-0', usage_metadata={'input_tokens': 187, 'output_tokens': 13, 'total_tokens': 200, 'input_token_details': {'cache_read': 0}})]}, next=(), config={'configurable': {'thread_id': '1', 'checkpoint_ns': '', 'checkpoint_id': '1f06975a-e82b-681c-800d-a57b734133b4'}}, metadata={'source': 'loop', 'step': 13, 'parents': {}, 'thread_id': '1'}, created_at='2025-07-25T16:37:40.837788+00:00', parent_config={'configurable': {'thread_id': '1', 'checkpoint_ns': '', 'checkpoint_id': '1f06975a-e223-6ff9-800c-716bde156a39'}}, tasks=(), interrupts=())"
      ]
     },
     "execution_count": 48,
     "metadata": {},
     "output_type": "execute_result"
    }
   ],
   "source": [
    "workflow.get_state(config=config)"
   ]
  },
  {
   "cell_type": "code",
   "execution_count": null,
   "id": "973f88ff",
   "metadata": {},
   "outputs": [],
   "source": []
  }
 ],
 "metadata": {
  "kernelspec": {
   "display_name": "langenv",
   "language": "python",
   "name": "python3"
  },
  "language_info": {
   "codemirror_mode": {
    "name": "ipython",
    "version": 3
   },
   "file_extension": ".py",
   "mimetype": "text/x-python",
   "name": "python",
   "nbconvert_exporter": "python",
   "pygments_lexer": "ipython3",
   "version": "3.10.0"
  }
 },
 "nbformat": 4,
 "nbformat_minor": 5
}
