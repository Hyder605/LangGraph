{
 "cells": [
  {
   "cell_type": "code",
   "execution_count": 90,
   "id": "fc3a0f8d",
   "metadata": {},
   "outputs": [],
   "source": [
    "from langgraph.graph import StateGraph,START,END\n",
    "from typing import TypedDict"
   ]
  },
  {
   "cell_type": "code",
   "execution_count": 91,
   "id": "93923dc1",
   "metadata": {},
   "outputs": [],
   "source": [
    "class BatsmanState(TypedDict):\n",
    "    runs:int\n",
    "    balls:int\n",
    "    sixes:int\n",
    "    fours:int\n",
    "    sr:float\n",
    "    bpb:float\n",
    "    boundary_percentage:float\n",
    "    summary:str"
   ]
  },
  {
   "cell_type": "code",
   "execution_count": 92,
   "id": "0f9cb25a",
   "metadata": {},
   "outputs": [],
   "source": [
    "def calculate_sr(state:BatsmanState)->BatsmanState:\n",
    "    sr=(state[\"runs\"]/state[\"balls\"])*100\n",
    "    ##Updating the state\n",
    "\n",
    "\n",
    " #It will give error in parallel workflow because there are three node and the after coming node expect there moght be some chnages but which update should it accept.\n",
    "    ## so Instead of retruning the whole State, we just return the variable where changes happened\n",
    "    \n",
    "    #state[\"sr\"]=sr\n",
    "\n",
    "    #return state\n",
    "\n",
    "    return{\"sr\":sr}\n",
    "\n",
    "def calculate_bpb(state:BatsmanState)->BatsmanState:\n",
    "\n",
    "    bpb=state[\"balls\"]/state[\"fours\"]+state[\"sixes\"]\n",
    "    \n",
    "\n",
    "    #It will give error in parallel workflow because there are three node and the after coming node expect there moght be some chnages but which update should it accept.\n",
    "    ## so Instead of retruning the whole State, we just return the variable where changes happened\n",
    "\n",
    "    # state[\"bpb\"]=bpb\n",
    "\n",
    "    # return state\n",
    "    return {\"bpb\":bpb}\n",
    "\n",
    "def calculate_bpercent(state:BatsmanState)->BatsmanState:\n",
    "\n",
    "   boundary_percent=(((state[\"fours\"]*4)+(state[\"sixes\"]*6))/state[\"runs\"])*100\n",
    "#    state[\"boundary_percentage\"]=boundary_percent\n",
    "\n",
    "   return {\"boundary_percentage\":boundary_percent}\n",
    "\n",
    "\n",
    "def summary(state:BatsmanState)->BatsmanState:\n",
    "    summary=f'''\n",
    "    Strike Rate - {state['sr']}\\n\n",
    "    Balls per Boundary - {state['bpb']}\\n\n",
    "    '''\n",
    "    state[\"summary\"]=summary\n",
    "\n",
    "    return state"
   ]
  },
  {
   "cell_type": "code",
   "execution_count": 93,
   "id": "4975132d",
   "metadata": {},
   "outputs": [],
   "source": [
    "#Intializing the Graph\n",
    "graph=StateGraph(BatsmanState)\n",
    "\n",
    "\n",
    "## Adding Nodes\n",
    "graph.add_node(\"calculate_sr\",calculate_sr)\n",
    "graph.add_node(\"calculate_bpb\",calculate_bpb)\n",
    "graph.add_node(\"calculate_bpercent\",calculate_bpercent)\n",
    "graph.add_node(\"summary\",summary)\n",
    "\n",
    "## Adding the Edges\n",
    "\n",
    "graph.add_edge(START,\"calculate_sr\")\n",
    "graph.add_edge(START,\"calculate_bpb\")\n",
    "graph.add_edge(START,\"calculate_bpercent\")\n",
    "graph.add_edge(\"calculate_sr\",\"summary\")\n",
    "graph.add_edge(\"calculate_bpb\",\"summary\")\n",
    "graph.add_edge(\"calculate_bpercent\",\"summary\")\n",
    "\n",
    "graph.add_edge(\"summary\",END)\n",
    "\n",
    "##Compiling\n",
    "workflow=graph.compile()\n",
    "\n",
    "##Viewing\n",
    "##Execution"
   ]
  },
  {
   "cell_type": "code",
   "execution_count": 94,
   "id": "3f20e037",
   "metadata": {},
   "outputs": [
    {
     "data": {
      "image/png": "[encoded data removed]",
      "text/plain": [
       "<IPython.core.display.Image object>"
      ]
     },
     "execution_count": 94,
     "metadata": {},
     "output_type": "execute_result"
    }
   ],
   "source": [
    "##Viewing\n",
    "from IPython.display import Image\n",
    "Image(workflow.get_graph().draw_mermaid_png())"
   ]
  },
  {
   "cell_type": "code",
   "execution_count": 95,
   "id": "70e7c100",
   "metadata": {},
   "outputs": [],
   "source": [
    "#Execution\n",
    "\n",
    "initial_state={\n",
    "    'runs':79,\n",
    "    'balls':39,\n",
    "    \"fours\":4,\n",
    "    \"sixes\":3\n",
    "\n",
    "}\n",
    "\n",
    "final_output=workflow.invoke(initial_state)"
   ]
  },
  {
   "cell_type": "code",
   "execution_count": 96,
   "id": "c07365b6",
   "metadata": {},
   "outputs": [
    {
     "name": "stdout",
     "output_type": "stream",
     "text": [
      "{'runs': 79, 'balls': 39, 'sixes': 3, 'fours': 4, 'sr': 202.56410256410254, 'bpb': 12.75, 'boundary_percentage': 43.037974683544306, 'summary': '\\n    Strike Rate - 202.56410256410254\\n\\n    Balls per Boundary - 12.75\\n\\n    '}\n"
     ]
    }
   ],
   "source": [
    "print(final_output)"
   ]
  },
  {
   "cell_type": "code",
   "execution_count": null,
   "id": "53f1439a",
   "metadata": {},
   "outputs": [],
   "source": []
  }
 ],
 "metadata": {
  "kernelspec": {
   "display_name": "langenv",
   "language": "python",
   "name": "python3"
  },
  "language_info": {
   "codemirror_mode": {
    "name": "ipython",
    "version": 3
   },
   "file_extension": ".py",
   "mimetype": "text/x-python",
   "name": "python",
   "nbconvert_exporter": "python",
   "pygments_lexer": "ipython3",
   "version": "3.10.0"
  }
 },
 "nbformat": 4,
 "nbformat_minor": 5
}
