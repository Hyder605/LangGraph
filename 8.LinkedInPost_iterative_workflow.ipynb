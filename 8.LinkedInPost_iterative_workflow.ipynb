{
 "cells": [
  {
   "cell_type": "code",
   "execution_count": 89,
   "id": "0dd03f07",
   "metadata": {},
   "outputs": [],
   "source": [
    "from langgraph.graph import StateGraph, START, END\n",
    "from langchain_google_genai import ChatGoogleGenerativeAI\n",
    "from typing import TypedDict,Annotated,Literal\n",
    "from dotenv import load_dotenv, find_dotenv\n",
    "from pydantic import BaseModel, Field\n",
    "import operator\n",
    "from langchain_core.messages import SystemMessage,HumanMessage"
   ]
  },
  {
   "cell_type": "code",
   "execution_count": 90,
   "id": "d4352cba",
   "metadata": {},
   "outputs": [],
   "source": [
    "_: bool = load_dotenv(find_dotenv())\n",
    "\n",
    "generator_llm = ChatGoogleGenerativeAI(model=\"gemini-2.0-flash-exp\")\n",
    "evaluator_llm = ChatGoogleGenerativeAI(model=\"gemini-2.0-flash-exp\")\n",
    "optimizer_llm = ChatGoogleGenerativeAI(model=\"gemini-2.0-flash-exp\")"
   ]
  },
  {
   "cell_type": "code",
   "execution_count": 91,
   "id": "caa0a9be",
   "metadata": {},
   "outputs": [],
   "source": [
    "class LinkedInState(TypedDict):\n",
    "    topic:str\n",
    "    post:str\n",
    "    evaluation:Literal[\"approved\",\"needs_improvement\"]\n",
    "    feedback:str\n",
    "    iteration:int\n",
    "    max_iteration:int\n",
    "\n",
    "    post_history:Annotated[list[str],operator.add]\n",
    "    feedback_history:Annotated[list[str],operator.add]\n"
   ]
  },
  {
   "cell_type": "code",
   "execution_count": 92,
   "id": "97911e8b",
   "metadata": {},
   "outputs": [],
   "source": [
    "def generate_post(state:LinkedInState):\n",
    "\n",
    "    messages=[\n",
    "        SystemMessage(content=\"You are a professional writing assistant.\"),\n",
    "        HumanMessage(content=f'''\n",
    "                    Write a concise and engaging LinkedIn post about {state[\"topic\"]}.\n",
    "                    Your goal is to educate or inspire professionals in a friendly, insightful tone.\n",
    "                    Use simple language, avoid jargon, and include a call to action or thought-provoking question at the end.\n",
    "                    Limit to 150–200 words.\n",
    "\n",
    "                    Rules:\n",
    "                    -SIMPLE\n",
    "                    -This is version {state[\"iteration\"]+1}\n",
    "                    ''')\n",
    "    ]\n",
    "    response=generator_llm.invoke(messages).content\n",
    "\n",
    "    return {\"post\":response,\"post_history\":[response]}"
   ]
  },
  {
   "cell_type": "code",
   "execution_count": 93,
   "id": "e454345f",
   "metadata": {},
   "outputs": [],
   "source": [
    "class PostEvaSchema(BaseModel):\n",
    "    evaluation:Literal[\"approved\",\"needs_improvement\"]=Field(..., description='Final evaluation')\n",
    "    feedback: str =Field(...,description=\"feedback for the post\")\n",
    "    #score:int=Field(...,ge=0,le=5,description=\"Total score from rubric (0 to 5)\")\n",
    " "
   ]
  },
  {
   "cell_type": "code",
   "execution_count": 94,
   "id": "7bd55e81",
   "metadata": {},
   "outputs": [],
   "source": [
    "structured_evaluator_llm=evaluator_llm.with_structured_output(PostEvaSchema)"
   ]
  },
  {
   "cell_type": "code",
   "execution_count": 95,
   "id": "1cdcb82a",
   "metadata": {},
   "outputs": [],
   "source": [
    "def evaluate_post(state:LinkedInState):\n",
    "    #prompt:\n",
    "    message=[\n",
    "            SystemMessage(\n",
    "        content=(\n",
    "            \"You are a brutally honest, no-fluff LinkedIn post critic. \"\n",
    "            \"You evaluate professional posts based on clarity, value, originality, and engagement potential. \"\n",
    "            \"You don’t tolerate vague motivational fluff, repackaged clichés, or corporate buzzword soup. \"\n",
    "            \"You are concise, constructive, and never overly kind.\"\n",
    "        )\n",
    "    ),\n",
    "    HumanMessage(\n",
    "        content=f'''\n",
    "    Evaluate the following LinkedIn post:\n",
    "\n",
    "    Post: \"{state['post']}\"\n",
    "\n",
    "    Use the criteria below to evaluate the post:\n",
    "\n",
    "    1. **Clarity** – Is the message easy to understand without re-reading?  \n",
    "    2. **Value** – Does it offer a useful insight, lesson, or actionable takeaway?  \n",
    "    3. **Originality** – Is this perspective fresh or has it been said a thousand times?  \n",
    "    4. **Engagement** – Would professionals be inclined to comment, share, or react?  \n",
    "    5. **Structure** – Does it have a hook, body, and a strong ending (e.g., CTA or thought-provoking question)?\n",
    "\n",
    "    **Auto-reject if:**\n",
    "    - It sounds like a generic self-congratulation or humblebrag  \n",
    "    - It relies on overused phrases like “Just putting this out there” or “Let that sink in”  \n",
    "    - It’s longer than 400 characters (typical LinkedIn post limit)  \n",
    "    - It ends in an empty motivational line without substance\n",
    "\n",
    "    ### Respond ONLY in structured format:\n",
    "\n",
    "    - evaluation: \"approved\" or \"needs_improvement\"  \n",
    "    - feedback: One concise paragraph (max 100 words) analyzing the post’s strengths and weaknesses\n",
    "    '''\n",
    "        )\n",
    "    ]\n",
    "        \n",
    "    response=structured_evaluator_llm.invoke(message)\n",
    "    return {'evaluation':response.evaluation,'feedback':response.feedback,\"feedback_history\":[response.feedback]}\n",
    "\n"
   ]
  },
  {
   "cell_type": "code",
   "execution_count": 96,
   "id": "ee6919d2",
   "metadata": {},
   "outputs": [],
   "source": [
    "def optimizer(state:LinkedInState):\n",
    "    messages = [\n",
    "    SystemMessage(\n",
    "        content=\"You rewrite LinkedIn posts to improve clarity, originality, and engagement, based on critical feedback. You remove fluff, avoid clichés, and aim for professional but conversational tone.\"\n",
    "    ),\n",
    "    HumanMessage(\n",
    "        content=f\"\"\"\n",
    "    Improve the LinkedIn post based on this feedback:\n",
    "    \"{state['feedback']}\"\n",
    "\n",
    "    Topic: \"{state['topic']}\"\n",
    "    Original Post:\n",
    "    {state['post']}\n",
    "\n",
    "    Re-write it as a clear, concise, and high-engagement LinkedIn post.\n",
    "    - Keep it under 400 characters.\n",
    "    - Avoid empty motivational clichés.\n",
    "    - Start with a strong hook.\n",
    "    - End with a call to action or thought-provoking insight.\n",
    "    - don't Use \"Revised\"\n",
    "    \"\"\"\n",
    "        )\n",
    "    ]\n",
    "\n",
    "    response = optimizer_llm.invoke(messages).content\n",
    "    iteration = state['iteration'] + 1\n",
    "\n",
    "    return {'post': response, 'iteration': iteration, 'post_history': [response]}"
   ]
  },
  {
   "cell_type": "code",
   "execution_count": 97,
   "id": "604a13ef",
   "metadata": {},
   "outputs": [],
   "source": [
    "def route_evaluation(state:LinkedInState):\n",
    "    if state['evaluation']== 'approved' or state['iteration']>=state[\"max_iteration\"]:\n",
    "        return 'approved'\n",
    "    else:\n",
    "        return \"needs_improvement\""
   ]
  },
  {
   "cell_type": "code",
   "execution_count": 98,
   "id": "44d9f464",
   "metadata": {},
   "outputs": [],
   "source": [
    "graph=StateGraph(LinkedInState)\n",
    "\n",
    "\n",
    "graph.add_node('generate_post',generate_post)\n",
    "graph.add_node(\"evaluate_post\",evaluate_post)\n",
    "graph.add_node(\"optimizer\",optimizer)\n",
    "\n",
    "\n",
    "graph.add_edge(START,\"generate_post\")\n",
    "graph.add_edge(\"generate_post\",\"evaluate_post\")\n",
    "graph.add_conditional_edges(\"evaluate_post\",route_evaluation,{'approved':END,\"needs_improvement\":\"optimizer\"})\n",
    "graph.add_edge(\"optimizer\",\"evaluate_post\")\n",
    "\n",
    "\n",
    "workflow=graph.compile()"
   ]
  },
  {
   "cell_type": "code",
   "execution_count": 99,
   "id": "fd684236",
   "metadata": {},
   "outputs": [
    {
     "data": {
      "image/png": "[encoded data removed]",
      "text/plain": [
       "<IPython.core.display.Image object>"
      ]
     },
     "execution_count": 99,
     "metadata": {},
     "output_type": "execute_result"
    }
   ],
   "source": [
    "from IPython.display import Image\n",
    "Image(workflow.get_graph().draw_mermaid_png())"
   ]
  },
  {
   "cell_type": "code",
   "execution_count": 100,
   "id": "a2ce2b5f",
   "metadata": {},
   "outputs": [
    {
     "data": {
      "text/plain": [
       "{'topic': 'AI in healthcare',\n",
       " 'post': 'AI is cutting diagnosis times, but are we ready for the ethical implications of algorithms making life-altering decisions? What safeguards are crucial for responsible AI in healthcare? #AIinHealthcare #HealthcareAI',\n",
       " 'evaluation': 'approved',\n",
       " 'feedback': \"The post is clear and raises a relevant question about AI ethics in healthcare. It offers value by prompting discussion on necessary safeguards. While the topic isn't entirely new, it remains pertinent. The question format encourages engagement, and the hashtags are appropriate. The post is within the character limit and avoids generic filler.\",\n",
       " 'iteration': 2,\n",
       " 'max_iteration': 5,\n",
       " 'post_history': [\"## AI: The Future of Healthcare is Now 🚀\\n\\nAI is no longer a futuristic fantasy; it's actively transforming healthcare! From speeding up diagnoses and personalizing treatments to streamlining administrative tasks, AI is helping doctors and hospitals work smarter, not harder.\\n\\nImagine a world where diseases are detected earlier, treatments are more effective, and healthcare is more accessible to everyone. AI is paving the way for this future by analyzing vast amounts of data, identifying patterns, and providing insights that would be impossible for humans alone.\\n\\nIt's not about replacing healthcare professionals, but empowering them with powerful tools to improve patient outcomes.\\n\\nExciting times ahead! What are some of the most promising AI applications in healthcare you've seen lately? Let's discuss! #AIinHealthcare #HealthcareInnovation #ArtificialIntelligence\",\n",
       "  'AI is cutting diagnosis times, but are we ready for the ethical implications of algorithms making life-altering decisions? What safeguards are crucial for responsible AI in healthcare? #AIinHealthcare #HealthcareAI'],\n",
       " 'feedback_history': [\"The post is generic and lacks a specific, insightful perspective. While it touches on relevant points about AI in healthcare, it doesn't offer any unique value or actionable takeaways. The question at the end is a standard engagement tactic, but the overall content is too broad and high-level to spark meaningful discussion among professionals. It reads like a surface-level overview rather than a thought-provoking piece.\",\n",
       "  \"The post is clear and raises a relevant question about AI ethics in healthcare. It offers value by prompting discussion on necessary safeguards. While the topic isn't entirely new, it remains pertinent. The question format encourages engagement, and the hashtags are appropriate. The post is within the character limit and avoids generic filler.\"]}"
      ]
     },
     "execution_count": 100,
     "metadata": {},
     "output_type": "execute_result"
    }
   ],
   "source": [
    "initial_state={\n",
    "    'topic':\"AI in healthcare\",\n",
    "    \"iteration\":1,\n",
    "    \"max_iteration\":5\n",
    "}\n",
    "workflow.invoke(initial_state)"
   ]
  }
 ],
 "metadata": {
  "kernelspec": {
   "display_name": "langenv",
   "language": "python",
   "name": "python3"
  },
  "language_info": {
   "codemirror_mode": {
    "name": "ipython",
    "version": 3
   },
   "file_extension": ".py",
   "mimetype": "text/x-python",
   "name": "python",
   "nbconvert_exporter": "python",
   "pygments_lexer": "ipython3",
   "version": "3.10.0"
  }
 },
 "nbformat": 4,
 "nbformat_minor": 5
}
