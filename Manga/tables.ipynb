{
 "cells": [
  {
   "cell_type": "markdown",
   "id": "7b775748",
   "metadata": {},
   "source": [
    "| Feature              | Iteration 1                                                                                          | Iteration 2                                                                                                        | Iteration 3                                                                                                     |\n",
    "|-----------------------|-----------------------------------------------------------------------------------------------------|---------------------------------------------------------------------------------------------------------------------|------------------------------------------------------------------------------------------------------------------|\n",
    "| **Setting**           | Present: \"Crowded schoolyard, bustling with students.\"                                              | Present: \"Crowded schoolyard\"                                                                                       | Present: \"Crowded schoolyard, bustling with students.\"                                                           |\n",
    "| **Focus**             | \"Ibad's POV, seeing Aisha from afar.\"                                                               | \"Ibad's POV, spotting Aisha\"                                                                                        | \"Ibad's POV, overwhelmed by seeing Aisha.\"                                                                       |\n",
    "| **Mood / Atmosphere** | \"Initial awe and infatuation, sense of wonder.\"                                                     | \"Pacing: Brief moment of awe/stillness\"                                                                             | \"Brief, impactful moment of realization.\"                                                                        |\n",
    "| **Visual Emphasis**   | \"Aisha highlighted, soft glow or 'angelic' effect.\"                                                  | \"Aisha framed as ethereal/angelic, soft lighting or glow effect.\"                                                    | \"Aisha stands out, soft glow or angelic cue (shojo manga style).\"                                                |\n",
    "| **Sound Effect**      | \"*POW!* (heartbeat), *THUD!*\"                                                                       | \"*POW!* (heartbeat), *THUD!*\"                                                                                       | \"*POW!* Heartbeat visualized as impact, *THUD!*\"                                                                 |\n",
    "| **Internal Monologue**| Not always explicit, but implied in focus and emotions.                                              | Explicit: `\"[She's...an angel!]\"` and `\"Ibad: GYAa!\"`                                                               | Explicit: `\"[She's...an angel!]\"`, `\"Ibad's realization: GYAa!\"`                                                 |\n",
    "| **Expressions**       | Detailed: \"Starry-eyed, overwhelmed\", \"Embarrassed, determined\", \"Face burning crimson\".             | Present but fewer variations: \"Determined/flustered\", \"Stammering, blushing\".                                       | Present: \"Embarrassment, nervousness, face crimson\", \"Overwhelming feeling of change.\"                           |\n",
    "| **Actions**           | \"Ibad rushing\", \"Tripping\", \"Aisha giggling\".                                                       | Same actions, but more compressed.                                                                                  | Same actions, with more **panel-level staging**.                                                                 |\n",
    "| **Reactions**         | \"Aisha giggling, amused.\"                                                                           | \"Aisha giggling, airy atmosphere.\"                                                                                  | \"Aisha giggles, laughter like wind chimes.\"                                                                      |\n",
    "| **Dialogue**          | \"Ibad stammering 'H-hello!'\"                                                                        | \"Ibad: H-hello!\", \"Aisha's smile (no dialogue text, implied)\"                                                        | \"Ibad stammering 'H-hello!'\", \"Aisha smiles, life-changing impact.\"                                              |\n",
    "| **Panel Style/Layout**| Minimal — implied via cues (close-up, transitions).                                                  | Explicit: \"Splash page\", \"Dynamic panel with speed lines\", \"Close-up panels\", \"Large panel\".                        | Even more structured: \"Wide shot → zoom on Aisha\", \"Series of smaller panels\", \"Close-up\", \"Large impactful panel\".|\n",
    "| **Symbolism/Impact**  | Moderate: glow effects, laughter like wind chimes, angelic cues.                                     | Stronger: radiant/transcendent framing of Aisha, transformation emphasized.                                         | Strongest: climax as life-changing, radiant smile, swirling effects, background fades, time slows.               |\n",
    "| **Pacing/Transitions**| Mentioned lightly (\"fast, comedic\", \"transition with sound\").                                        | Explicit pacing notes for each scene.                                                                               | Detailed: comedic pacing, slow motion climax, wide-to-close transitions.                                         |\n"
   ]
  },
  {
   "cell_type": "markdown",
   "id": "c4150bce",
   "metadata": {},
   "source": []
  },
  {
   "cell_type": "markdown",
   "id": "3c9fdcb8",
   "metadata": {},
   "source": [
    "| **Feature**               | **Iteration 1**                                                             | **Iteration 2**                                                                   | **Iteration 3**                                                                                 |\n",
    "| ------------------------- | --------------------------------------------------------------------------- | --------------------------------------------------------------------------------- | ----------------------------------------------------------------------------------------------- |\n",
    "| **Setting**               | `\"setting\": \"Crowded schoolyard, bustling with students.\"`                  | `\"setting\": \"Crowded schoolyard\"`                                                 | `\"setting\": \"Crowded schoolyard, bustling with students.\"`                                      |\n",
    "| **Focus (Ibad POV)**      | `\"focus\": \"Ibad's POV, seeing Aisha from afar.\"`                            | `\"focus\": \"Ibad's POV, spotting Aisha\"`                                           | `\"focus\": \"Ibad's POV, overwhelmed by seeing Aisha.\"`                                           |\n",
    "| **Mood / Atmosphere**     | `\"mood\": \"Initial awe and infatuation, sense of wonder.\"`                   | `\"atmosphere\": \"Light, airy, innocent.\"`                                          | `\"mood\": \"Humorous, awkward.\"` (scene 2) + `\"pacing\": \"Brief, impactful moment\"` (scene 1)      |\n",
    "| **Visual Emphasis / Cue** | `\"visual_cue\": \"Aisha highlighted, soft glow, 'angelic' effect.\"`           | `\"visual_emphasis\": \"Aisha framed ethereal, soft glow.\"`                          | `\"visual_emphasis\": \"Aisha stands out, soft glow, shojo manga style.\"`                          |\n",
    "| **Sound Effects**         | `*POW!* (heartbeat)` and `*THUD!*`                                          | `*POW!* (heartbeat)`, `*THUD!*`                                                   | `*POW!* heartbeat impact`, `*THUD!* fall`, `GYAa! internal scream`                              |\n",
    "| **Ibad Expression**       | `\"ibad_expression\": \"Starry-eyed, overwhelmed\" / \"Embarrassed, determined\"` | `\"facial_expression\": \"Determined/flustered\"`                                     | `\"emotion\": \"Embarrassment, nervousness, crimson face\"`                                         |\n",
    "| **Action (Ibad)**         | `\"action\": \"Ibad clumsily rushing towards Aisha.\"`                          | `\"action\": \"Ibad rushing towards Aisha\"`                                          | `\"action\": \"Ibad clumsily rushes towards Aisha, tripping.\"`                                     |\n",
    "| **Reaction (Aisha)**      | `\"aisha_action\": \"Giggling.\"`                                               | `\"reaction\": \"Aisha giggling\"`                                                    | `\"reaction\": \"Aisha giggles.\"`                                                                  |\n",
    "| **Sound Description**     | `\"sound_description\": \"Laughter like wind chimes, shimmering effect.\"`      | `\"sound_description\": \"Laughter like wind chimes, with sparkling/musical notes.\"` | `\"sound_description\": \"Laughter like wind chimes, delicate.\"`                                   |\n",
    "| **Dialogue (Ibad)**       | `\"dialogue\": \"Ibad stammering 'H-hello!'\"`                                  | `\"dialogue\": \"Ibad: H-hello!\"`                                                    | `\"dialogue\": \"Ibad stammering: 'H-hello!'\"`                                                     |\n",
    "| **Dialogue (Aisha)**      | Missing                                                                     | `\"dialogue\": \"Aisha's smile\"`                                                     | `\"climax\": \"Aisha smiles at Ibad.\"`                                                             |\n",
    "| **Internal Monologue**    | `\"[She's...an angel!]\"` and `\"GYAa!\"`                                       | `\"[She's...an angel!]\"` and `\"Ibad: GYAa!\"`                                       | `\"[She's...an angel!]\"` and `\"Ibad's realization: his life has irrevocably changed. GYAa!\"`     |\n",
    "| **Emotional Impact**      | `\"mood\": \"Profound, life-altering.\"`                                        | `\"emotional_impact\": \"Life-changing moment for Ibad\"`                             | `\"emotional_impact\": \"Overwhelming feeling of change and excitement for Ibad.\"`                 |\n",
    "| **Symbolism**             | `\"symbolism\": \"First love as sudden impact\"`                                | `\"visual_symbolism\": \"Aisha's smile as radiant, transformative\"`                  | `\"visual_emphasis\": \"Radiant/captivating smile, life-changing moment\"`                          |\n",
    "| **Pacing**                | `\"pacing\": \"Fast, comedic.\"` + `\"Profound, life-altering.\"`                 | `\"pacing\": \"Brief stillness → action\" + `\"Slow down time\"\\`                       | `\"pacing\": \"Brief impactful moment\" + `\"emphasis on speed and clumsiness\"\\`                     |\n",
    "| **Panel Style / Layout**  | Missing                                                                     | `\"panel_style\": \"Splash page, dynamic panels, close-ups, etc.\"`                   | `\"panel_layout\": \"Wide shot → zoom, series of small panels, close-ups, large impactful panel.\"` |\n",
    "| **Visual Elements**       | `\"visual_element\": \"Background fades, close-ups, tripping animation.\"`      | `\"visual_element\": \"Speed lines, exaggerated blush, shining effects.\"`            | `\"visual_style\": \"Exaggerated movement lines, shojo glow, red shading.\"`                        |\n",
    "| **Transitions**           | `\"transition\": \"Sound effect bridges clumsy → lighter moment.\"`             | Missing                                                                           | Present implicitly via `\"panel_layout\": wide → zoom → close-up → climax.\"`                      |\n"
   ]
  },
  {
   "cell_type": "markdown",
   "id": "db157cf4",
   "metadata": {},
   "source": []
  },
  {
   "cell_type": "markdown",
   "id": "bd808e4b",
   "metadata": {},
   "source": [
    "image_prompt1='''Wide shot of a crowded schoolyard. Ibad (ibad_001, A lanky teenage boy with messy black hair, tripping over books in a schoolyard, blushing intensely.) sees Aisha (aisha_002, A slim teenage girl with long brown hair, smiling warmly while holding books in a schoolyard.) across the yard. Heart effect with the text \"POW!\" around Ibad. Ibad\\'s inner thought: \"It\\'s her...the angel I\\'ve been waiting for!\" ''' \n",
    "\n",
    "image_prompt2='''Ibad (ibad_001, A lanky teenage boy with messy black hair, tripping over books in a schoolyard, blushing intensely.) clumsily rushing towards Aisha (aisha_002, A slim teenage girl with long brown hair, smiling warmly while holding books in a schoolyard.), tripping over his feet. Books flying in the air. Sound effect: \"THUD!\" ''' \n",
    "\n",
    "image_prompt3='''Close-up on Ibad\\'s (ibad_001, A lanky teenage boy with messy black hair, tripping over books in a schoolyard, blushing intensely.) face, red with embarrassment, bowing deeply. Aisha (aisha_002, A slim teenage girl with long brown hair, smiling warmly while holding books in a schoolyard.) is in the background. Ibad says: \"Gyaa! I\\'m so sorry!\" '''  \n",
    "\n",
    "image_prompt4=''' Aisha (aisha_002, A slim teenage girl with long brown hair, smiling warmly while holding books in a schoolyard.) giggling, a bright, sunshine smile on her face. Ibad (ibad_001, A lanky teenage boy with messy black hair, tripping over books in a schoolyard, blushing intensely.) looking up at her, mesmerized.''' \n",
    "\n",
    "image_prompt5=''' Ibad (ibad_001, A lanky teenage boy with messy black hair, tripping over books in a schoolyard, blushing intensely.) looking determined, fist clenched, slight sunlight shining on him. Ibad\\'s inner thought: \"I\\'ll do anything to make her smile like that forever.\" ''' "
   ]
  }
 ],
 "metadata": {
  "language_info": {
   "name": "python"
  }
 },
 "nbformat": 4,
 "nbformat_minor": 5
}
