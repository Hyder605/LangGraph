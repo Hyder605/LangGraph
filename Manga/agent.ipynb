{
 "cells": [
  {
   "cell_type": "code",
   "execution_count": 25,
   "id": "1413c77f",
   "metadata": {},
   "outputs": [],
   "source": [
    "from langgraph.graph import StateGraph, START, END\n",
    "from langchain_google_genai import ChatGoogleGenerativeAI\n",
    "from typing import TypedDict,Annotated,Literal,List\n",
    "from dotenv import load_dotenv, find_dotenv\n",
    "from pydantic import BaseModel, Field\n",
    "import operator"
   ]
  },
  {
   "cell_type": "code",
   "execution_count": 26,
   "id": "054ba94d",
   "metadata": {},
   "outputs": [],
   "source": [
    "\n",
    "class MangaFeatureSchema(BaseModel):\n",
    "    main_characters: List[str] = Field(\n",
    "        ..., description=\"List of main characters in the story, including roles or names.\"\n",
    "    )\n",
    "    \n",
    "    character_descriptions: List[str] = Field(\n",
    "        ..., description=\"Short descriptions of the characters’ traits, personalities, or roles.\"\n",
    "    )\n",
    "    \n",
    "    setting: str = Field(\n",
    "        ..., description=\"The primary setting or environment where the story takes place.\"\n",
    "    )\n",
    "    \n",
    "    conflict_or_goal: str = Field(\n",
    "        ..., description=\"The main conflict, tension, or goal driving the story.\"\n",
    "    )\n",
    "    \n",
    "    important_objects: List[str] = Field(\n",
    "        ..., description=\"Key objects, weapons, or magical items relevant to the story.\"\n",
    "    )\n",
    "    \n",
    "    mood_and_tone: List[\n",
    "        Literal[\"dramatic\", \"mysterious\", \"adventurous\", \"romantic\", \"comedic\", \"emotional\", \"dark\"]\n",
    "    ] = Field(\n",
    "        ..., description=\"Keywords describing the mood and tone of the story.\"\n",
    "    )\n",
    "    \n",
    "    key_sound_effects_and_emotions: List[str] = Field(\n",
    "        ..., description=\"Important sound effects (onomatopoeia) and strong emotions expressed in the story.\"\n",
    "    )\n",
    "\n"
   ]
  },
  {
   "cell_type": "code",
   "execution_count": 27,
   "id": "13328b26",
   "metadata": {},
   "outputs": [],
   "source": [
    "_: bool = load_dotenv(find_dotenv())\n",
    "\n",
    "model = ChatGoogleGenerativeAI(model=\"gemini-2.0-flash-exp\")\n",
    "structured_model=model.with_structured_output(MangaFeatureSchema)\n"
   ]
  },
  {
   "cell_type": "code",
   "execution_count": null,
   "id": "1b5112cb",
   "metadata": {},
   "outputs": [],
   "source": []
  },
  {
   "cell_type": "code",
   "execution_count": 28,
   "id": "607b9497",
   "metadata": {},
   "outputs": [],
   "source": [
    "class MangaState(TypedDict):\n",
    "    input_story:str\n",
    "    refined_story:str\n",
    "    extracted_features:dict\n",
    "\n"
   ]
  },
  {
   "cell_type": "code",
   "execution_count": 33,
   "id": "cab97ff6",
   "metadata": {},
   "outputs": [],
   "source": [
    "def prompt_refinner(state:MangaState):\n",
    "    user_story=state['input_story']\n",
    "    prompt=f'''\n",
    "            You are a professional manga storyteller. \n",
    "            Your job is to take a short user query and refine it into a concise manga-style story \n",
    "            suitable for ONE PAGE comic (4–6 sentences only).\n",
    "\n",
    "            Requirements:\n",
    "            - Keep the story short and dynamic (not more than 6 sentences).\n",
    "            - Add manga-style elements: \n",
    "            * Dramatic emotions \n",
    "            * Exaggerated action or reactions \n",
    "            * Inner thoughts (marked with brackets [ ])\n",
    "            * Sound effects (onomatopoeia like \"BAM!\", \"WHOOSH!\", \"Gyaa!\")\n",
    "            - Story should feel like it can naturally be divided into 4–5 panels later.\n",
    "            - Do not write panel breakdowns yet.\n",
    "\n",
    "            User Query: {user_story}\n",
    "\n",
    "            Refined Manga Story:\n",
    "            '''\n",
    "    refine_output=model.invoke(prompt).content\n",
    "    return {\"refined_story\":refine_output}\n",
    "\n",
    "\n",
    "\n",
    "def feature_extractor(state:MangaState):\n",
    "    refine_story=state['refined_story']\n",
    "    prompt=f\"\"\"\n",
    "\n",
    "            You are a manga story analyzer. \n",
    "            Your task is to read the following refined manga story and extract its key features. \n",
    "            You MUST return the result as valid JSON that conforms to the MangaFeatureSchema below:\n",
    "\n",
    "            Schema:\n",
    "            {{\n",
    "            \"main_characters\": [\"list of character names or roles\"],\n",
    "            \"character_descriptions\": [\"list of short character descriptions, same order as main_characters\"],\n",
    "            \"setting\": \"short description of where the story takes place\",\n",
    "            \"conflict_or_goal\": \"one-sentence summary of the story’s central conflict or goal\",\n",
    "            \"important_objects\": [\"list of important items, weapons, or artifacts\"],\n",
    "            \"mood_and_tone\": [\"one or more keywords: dramatic, mysterious, adventurous, romantic, comedic, emotional, dark\"],\n",
    "            \"key_sound_effects_and_emotions\": [\"list of notable sound effects (onomatopoeia) and strong emotions\"]\n",
    "            }}\n",
    "\n",
    "            Rules:\n",
    "            - Only output valid JSON, no explanations.\n",
    "            - Keep responses short and concise.\n",
    "            - Ensure the JSON matches the schema exactly.\n",
    "\n",
    "            Refined Manga Story:{refine_story}\n",
    "\n",
    "        \"\"\"\n",
    "    output=structured_model.invoke(prompt)\n",
    "\n",
    "    return {\"extracted_feature\":output}"
   ]
  },
  {
   "cell_type": "code",
   "execution_count": 35,
   "id": "cc689edd",
   "metadata": {},
   "outputs": [],
   "source": [
    "story=prompt_refinner({'input_story':\"A boy finds a magic sword.\"})\n",
    "features=feature_extractor({\"refined_story\":story})\n"
   ]
  },
  {
   "cell_type": "code",
   "execution_count": 39,
   "id": "27ff496d",
   "metadata": {},
   "outputs": [
    {
     "data": {
      "text/plain": [
       "['Ren']"
      ]
     },
     "execution_count": 39,
     "metadata": {},
     "output_type": "execute_result"
    }
   ],
   "source": [
    "features['extracted_feature'].main_characters"
   ]
  },
  {
   "cell_type": "code",
   "execution_count": null,
   "id": "47fd7991",
   "metadata": {},
   "outputs": [],
   "source": []
  }
 ],
 "metadata": {
  "kernelspec": {
   "display_name": "langenv",
   "language": "python",
   "name": "python3"
  },
  "language_info": {
   "codemirror_mode": {
    "name": "ipython",
    "version": 3
   },
   "file_extension": ".py",
   "mimetype": "text/x-python",
   "name": "python",
   "nbconvert_exporter": "python",
   "pygments_lexer": "ipython3",
   "version": "3.11.13"
  }
 },
 "nbformat": 4,
 "nbformat_minor": 5
}
