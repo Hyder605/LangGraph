{
 "cells": [
  {
   "cell_type": "code",
<<<<<<< HEAD
   "execution_count": 7,
=======
   "execution_count": 35,
>>>>>>> f48c37737ba19688e85a4937acaf64d309f95245
   "id": "1413c77f",
   "metadata": {},
   "outputs": [],
   "source": [
    "from langgraph.graph import StateGraph, START, END\n",
    "from langchain_google_genai import ChatGoogleGenerativeAI\n",
    "from typing import TypedDict,Annotated,Literal,List,Optional\n",
    "from dotenv import load_dotenv, find_dotenv\n",
    "from pydantic import BaseModel, Field\n",
    "import operator\n",
    "import json\n",
    "import uuid"
   ]
  },
  {
   "cell_type": "code",
<<<<<<< HEAD
   "execution_count": 8,
=======
   "execution_count": 36,
>>>>>>> f48c37737ba19688e85a4937acaf64d309f95245
   "id": "054ba94d",
   "metadata": {},
   "outputs": [],
   "source": [
    "\n",
    "## Schema For Overall Features from the Story\n",
    "class MangaFeatureSchema(BaseModel):\n",
    "    main_characters: List[str] = Field(\n",
    "        ..., description=\"List of main characters in the story, including roles or names.\"\n",
    "    )\n",
    "    \n",
    "    character_descriptions: List[str] = Field(\n",
    "        ..., description=\"Short descriptions of the characters’ traits, personalities, or roles.\"\n",
    "    )\n",
    "    \n",
    "    setting: str = Field(\n",
    "        ..., description=\"The primary setting or environment where the story takes place.\"\n",
    "    )\n",
    "    \n",
    "    conflict_or_goal: str = Field(\n",
    "        ..., description=\"The main conflict, tension, or goal driving the story.\"\n",
    "    )\n",
    "    \n",
    "    important_objects: List[str] = Field(\n",
    "        ..., description=\"Key objects, weapons, or magical items relevant to the story.\"\n",
    "    )\n",
    "    \n",
    "    mood_and_tone: List[\n",
    "        Literal[\"dramatic\", \"mysterious\", \"adventurous\", \"romantic\", \"comedic\", \"emotional\", \"dark\"]\n",
    "    ] = Field(\n",
    "        ..., description=\"Keywords describing the mood and tone of the story.\"\n",
    "    )\n",
    "    \n",
    "    key_sound_effects_and_emotions: List[str] = Field(\n",
    "        ..., description=\"Important sound effects (onomatopoeia) and strong emotions expressed in the story.\"\n",
    "    )\n",
    "\n",
    "\n",
    "\n",
    "\n",
    "### Schema for Character description\n",
    "class CharacterProfile(BaseModel):\n",
    "    name_or_role: str                 # e.g. \"Curious Boy\"\n",
    "    canonical_name: Optional[str]     # e.g. \"Taro\" (or null)\n",
    "    age_range: str                    # e.g. \"early teens (13-15)\"\n",
    "    gender_presentation: Optional[str]# e.g. \"male-presenting\" or \"non-binary\"\n",
    "    body_type: str                    # e.g. \"slim, small frame\"\n",
    "    height: Optional[str]             # e.g. \"short\" or \"170 cm\"\n",
    "    face: str                         # short face description: shape, nose, mouth\n",
    "    hair: str                         # color, style, length\n",
    "    eyes: str                         # color, shape, notable features\n",
    "    clothing: str                     # typical outfit description\n",
    "    accessories: List[str]            # e.g. [\"rope belt\", \"necklace\"]\n",
    "    color_palette: List[str]          # hex or basic color names, ordered primary → accent\n",
    "    notable_marks: List[str]          # scars, tattoos, birthmarks\n",
    "    important_objects: List[str]      # items tied to the character, can be []\n",
    "    signature_poses: List[str]        # short phrases e.g. [\"hand-on-hilt\", \"heroic stance\"]\n",
    "    default_expressions: List[str]    # e.g. [\"wide-eyed shock\",\"determined glare\"]\n",
    "    voice_short: Optional[str]        # quick tonal note for dialogue (e.g. \"soft, inquisitive\")\n",
    "    drawing_instructions: str         # manga-specific tips: line weight, shading, typical camera angle\n",
    "    visual_reference_prompt: str      # 1-2 sentence short prompt formatted for image models\n",
    "    consistency_token: str            # unique id you can pass to image-generator to keep same character\n",
    "\n",
    "### For list of characters\n",
    "class CharacterList(BaseModel):\n",
    "    characters: List[CharacterProfile] = Field(..., description=\"List of character profiles\"\n",
    "    )\n",
    "\n",
    "\n",
    "## Schema For Director\n",
    "class Director_Panel(BaseModel):\n",
    "    panel_number: int\n",
    "    scene_description: str              # What is shown in the panel (setting, action, camera)\n",
    "    characters_present: List[str]       # From character_setup\n",
    "    actions: List[str]                  # Key actions happening in this panel\n",
    "    dialogues: List[str]                # Short speech bubbles, \"Name: text\"\n",
    "    inner_thoughts: List[str]           # If any, written as [thoughts]\n",
    "    sound_effects: List[str]            # Onomatopoeia\n",
    "\n",
    "## Schema for Number of Pages\n",
    "\n",
    "class MangaPage(BaseModel):\n",
    "    page_number: int\n",
    "    panels: List[Director_Panel]"
   ]
  },
  {
   "cell_type": "code",
<<<<<<< HEAD
   "execution_count": 9,
=======
   "execution_count": 37,
>>>>>>> f48c37737ba19688e85a4937acaf64d309f95245
   "id": "13328b26",
   "metadata": {},
   "outputs": [],
   "source": [
    "_: bool = load_dotenv(find_dotenv())\n",
    "\n",
    "model = ChatGoogleGenerativeAI(model=\"gemini-2.0-flash-exp\")\n",
    "structured_model_MangaFeature=model.with_structured_output(MangaFeatureSchema)\n",
    "structured_model_characterList=model.with_structured_output(CharacterList)\n",
    "structured_model_director=model.with_structured_output(MangaPage)\n",
    "\n",
    "\n",
    "\n"
   ]
  },
  {
   "cell_type": "code",
   "execution_count": null,
   "id": "1b5112cb",
   "metadata": {},
   "outputs": [],
   "source": []
  },
  {
   "cell_type": "code",
<<<<<<< HEAD
   "execution_count": 10,
=======
   "execution_count": null,
>>>>>>> f48c37737ba19688e85a4937acaf64d309f95245
   "id": "607b9497",
   "metadata": {},
   "outputs": [],
   "source": [
    "class MangaState(TypedDict):\n",
    "    input_story:str\n",
    "    refined_story:str\n",
    "    extracted_features:dict\n",
    "    character_feature:dict\n",
    "    panel_scenes:dict\n",
    "\n"
   ]
  },
  {
   "cell_type": "code",
<<<<<<< HEAD
   "execution_count": 11,
=======
   "execution_count": null,
>>>>>>> f48c37737ba19688e85a4937acaf64d309f95245
   "id": "cab97ff6",
   "metadata": {},
   "outputs": [],
   "source": [
    "def prompt_refinner(state:MangaState):\n",
    "    user_story=state['input_story']\n",
    "    prompt=f'''\n",
    "            You are a professional manga storyteller. \n",
    "            Your job is to take a short user query and refine it into a concise manga-style story \n",
    "            suitable for ONE PAGE comic (4–6 sentences only).\n",
    "\n",
    "            Requirements:\n",
    "            - Keep the story short and dynamic (not more than 6 sentences).\n",
    "            - Add manga-style elements: \n",
    "            * Dramatic emotions \n",
    "            * Exaggerated action or reactions \n",
    "            * Inner thoughts (marked with brackets [ ])\n",
    "            * Sound effects (onomatopoeia like \"BAM!\", \"WHOOSH!\", \"Gyaa!\")\n",
    "            - Story should feel like it can naturally be divided into 4–5 panels later.\n",
    "            - Do not write panel breakdowns yet.\n",
    "\n",
    "            User Query: {user_story}\n",
    "\n",
    "            Refined Manga Story:\n",
    "            '''\n",
    "    refine_output=model.invoke(prompt).content\n",
    "    return {\"refined_story\":refine_output}\n",
    "\n",
    "\n",
    "\n",
    "def feature_extractor(state:MangaState):\n",
    "    refine_story=state['refined_story']\n",
    "    prompt=f\"\"\"\n",
    "\n",
    "            You are a manga story analyzer. \n",
    "            Your task is to read the following refined manga story and extract its key features. \n",
    "            You MUST return the result as valid JSON that conforms to the MangaFeatureSchema below:\n",
    "\n",
    "            Schema:\n",
    "            {{\n",
    "            \"main_characters\": [\"list of character names or roles\"],\n",
    "            \"character_descriptions\": [\"list of short character descriptions, same order as main_characters\"],\n",
    "            \"setting\": \"short description of where the story takes place\",\n",
    "            \"conflict_or_goal\": \"one-sentence summary of the story’s central conflict or goal\",\n",
    "            \"important_objects\": [\"list of important items, weapons, or artifacts\"],\n",
    "            \"mood_and_tone\": [\"one or more keywords: dramatic, mysterious, adventurous, romantic, comedic, emotional, dark\"],\n",
    "            \"key_sound_effects_and_emotions\": [\"list of notable sound effects (onomatopoeia) and strong emotions\"]\n",
    "            }}\n",
    "\n",
    "            Rules:\n",
    "            - Only output valid JSON, no explanations.\n",
    "            - Keep responses short and concise.\n",
    "            - Ensure the JSON matches the schema exactly.\n",
    "\n",
    "            Refined Manga Story:{refine_story}\n",
    "\n",
    "        \"\"\"\n",
    "    output=structured_model_MangaFeature.invoke(prompt)\n",
    "\n",
    "    return {\"extracted_feature\":output}\n",
    "\n",
    "\n",
    "def character_makeup(state: MangaState):\n",
    "    refined_story = state['refined_story']\n",
    "    extracted_feature = state['extracted_features']\n",
    "\n",
    "    # extracted_feature could be a dict or a JSON string depending on prior step\n",
    "    if isinstance(extracted_feature, dict):\n",
    "        extracted_feature_json = extracted_feature\n",
    "    elif isinstance(extracted_feature, str):\n",
    "        try:\n",
    "            extracted_feature_json = json.loads(extracted_feature)\n",
    "        except Exception:\n",
    "            extracted_feature_json = {\"main_characters\": [], \"character_descriptions\": []}\n",
    "    else:\n",
    "        extracted_feature_json = {}\n",
    "\n",
    "    prompt = f'''\n",
    "        You are a manga character designer. \n",
    "        Input: a short refined manga story and the extracted features (characters & brief descriptions).\n",
    "        Your job: produce a JSON array \"characters\" of detailed, stable character profiles suitable for repeated drawing across multiple panels.\n",
    "        You MUST output valid JSON ONLY and match the schema exactly.\n",
    "\n",
    "        Schema (for each character):\n",
    "        {{\n",
    "        \"name_or_role\": \"string\",\n",
    "        \"canonical_name\": \"string or null\",\n",
    "        \"age_range\": \"string\",\n",
    "        \"gender_presentation\": \"string or null\",\n",
    "        \"body_type\": \"string\",\n",
    "        \"height\": \"string or null\",\n",
    "        \"face\": \"short description (shape, nose, mouth, distinguishing facial features)\",\n",
    "        \"hair\": \"short description (color, style, length)\",\n",
    "        \"eyes\": \"short description (color, shape, special details like glow)\",\n",
    "        \"clothing\": \"short description (top, bottom, shoes, texture)\",\n",
    "        \"accessories\": [\"list of accessories\"],\n",
    "        \"color_palette\": [\"primary\", \"secondary\", \"accent\"],\n",
    "        \"notable_marks\": [\"scars, tattoos, birthmarks or empty list\"],\n",
    "        \"important_objects\": [\"items associated with this character\"],\n",
    "        \"signature_poses\": [\"list of 2-4 signature poses\"],\n",
    "        \"default_expressions\": [\"list of 3 typical expressions used in manga\"],\n",
    "        \"voice_short\": \"one-line descriptor of speaking voice or null\",\n",
    "        \"drawing_instructions\": \"manga-specific tips (line weight, shading, preferred camera angles)\",\n",
    "        \"visual_reference_prompt\": \"1-2 sentence prompt for an image generator to draw this character consistently\",\n",
    "        \"consistency_token\": \"unique_short_token (use this in downstream image prompts to ensure consistency)\"\n",
    "        }}\n",
    "\n",
    "        \n",
    "        Rules:\n",
    "        - You MUST create one character profile for every entry in \"main_characters\".\n",
    "        - The number of profiles in \"characters\" must exactly equal the number of \"main_characters\".\n",
    "        - Use the paired \"character_descriptions\" to enrich each profile.\n",
    "        - If details are missing, infer them from the refined story.\n",
    "        - Keep each profile short, clear, and usable for consistent drawing.\n",
    "        - Output only valid JSON in the format: {{ \"characters\": [ ... ] }}\n",
    "\n",
    "        Refined Story:\n",
    "        {refined_story}\n",
    "\n",
    "        Extracted Features:\n",
    "        {json.dumps(extracted_feature_json)}\n",
    "\n",
    "'''\n",
    "    output = structured_model_characterList.invoke(prompt)\n",
    "    return {\"character_makeup\": output}\n",
    "\n",
    "\n",
    "def manga_director(state: MangaState):\n",
    "    refined_story = state['refined_story']\n",
    "    features = state['extracted_feature']\n",
    "    characters = state['character_makeup']\n",
    "\n",
    "    prompt = f\"\"\"\n",
    "    You are a Manga Director. \n",
    "    Your job is to take the refined story, extracted features, and character profiles, \n",
    "    and create a ONE-PAGE manga script divided into **exactly 4–5 panels**.\n",
    "\n",
    "    Schema:\n",
    "    {{\n",
    "      \"page_number\": 1,\n",
    "      \"panels\": [\n",
    "        {{\n",
    "          \"panel_number\": 1,\n",
    "          \"scene_description\": \"string (describe scene, setting, mood, camera angle)\",\n",
    "          \"characters_present\": [\"list of character names_or_roles\"],\n",
    "          \"actions\": [\"short action phrases\"],\n",
    "          \"dialogues\": [\"Name: text\"],\n",
    "          \"inner_thoughts\": [\"list of inner thoughts if any\"],\n",
    "          \"sound_effects\": [\"list of onomatopoeia like BAM, WHOOSH\"]\n",
    "        }}\n",
    "      ]\n",
    "    }}\n",
    "\n",
    "    Rules:\n",
    "    - Output **exactly 4 or 5 panels**. Never fewer, never more.\n",
    "    - \"panels\" must always be an array with multiple objects (panel_number 1...n).\n",
    "    - Use only characters from the given profiles.\n",
    "    - Keep dialogues short, natural, manga-style.\n",
    "    - Balance between action, emotion, and pacing.\n",
    "    - Ensure JSON output only, no extra explanation.\n",
    "\n",
    "    Refined Story: {refined_story}\n",
    "\n",
    "    Extracted Features: {features}\n",
    "\n",
    "    Character Profiles: {characters}\n",
    "    \"\"\"\n",
    "\n",
    "    output = structured_model_director.invoke(prompt)\n",
    "\n",
    "    # ✅ post-check: if less than 4 panels, you can re-call with \"retry mode\"\n",
    "    if \"panels\" in output and len(output[\"panels\"]) < 4:\n",
    "        # retry enforcement\n",
    "        retry_prompt = prompt + \"\\n\\n⚠️ Reminder: You must output 4–5 panels, not fewer.\"\n",
    "        output = structured_model_director.invoke(retry_prompt)\n",
    "\n",
    "    return {\"panel_scenes\": output}"
   ]
  },
  {
   "cell_type": "code",
<<<<<<< HEAD
   "execution_count": 12,
   "id": "cc689edd",
   "metadata": {},
   "outputs": [
    {
     "ename": "ChatGoogleGenerativeAIError",
     "evalue": "Invalid argument provided to Gemini: 400 API key expired. Please renew the API key. [reason: \"API_KEY_INVALID\"\ndomain: \"googleapis.com\"\nmetadata {\n  key: \"service\"\n  value: \"generativelanguage.googleapis.com\"\n}\n, locale: \"en-US\"\nmessage: \"API key expired. Please renew the API key.\"\n]",
     "output_type": "error",
     "traceback": [
      "\u001b[31m---------------------------------------------------------------------------\u001b[39m",
      "\u001b[31mInvalidArgument\u001b[39m                           Traceback (most recent call last)",
      "\u001b[36mFile \u001b[39m\u001b[32mc:\\Users\\Hyder\\anaconda3\\envs\\langenv\\Lib\\site-packages\\langchain_google_genai\\chat_models.py:216\u001b[39m, in \u001b[36m_chat_with_retry.<locals>._chat_with_retry\u001b[39m\u001b[34m(**kwargs)\u001b[39m\n\u001b[32m    215\u001b[39m \u001b[38;5;28;01mtry\u001b[39;00m:\n\u001b[32m--> \u001b[39m\u001b[32m216\u001b[39m     \u001b[38;5;28;01mreturn\u001b[39;00m \u001b[43mgeneration_method\u001b[49m\u001b[43m(\u001b[49m\u001b[43m*\u001b[49m\u001b[43m*\u001b[49m\u001b[43mkwargs\u001b[49m\u001b[43m)\u001b[49m\n\u001b[32m    217\u001b[39m \u001b[38;5;28;01mexcept\u001b[39;00m google.api_core.exceptions.FailedPrecondition \u001b[38;5;28;01mas\u001b[39;00m exc:\n",
      "\u001b[36mFile \u001b[39m\u001b[32mc:\\Users\\Hyder\\anaconda3\\envs\\langenv\\Lib\\site-packages\\google\\ai\\generativelanguage_v1beta\\services\\generative_service\\client.py:868\u001b[39m, in \u001b[36mGenerativeServiceClient.generate_content\u001b[39m\u001b[34m(self, request, model, contents, retry, timeout, metadata)\u001b[39m\n\u001b[32m    867\u001b[39m \u001b[38;5;66;03m# Send the request.\u001b[39;00m\n\u001b[32m--> \u001b[39m\u001b[32m868\u001b[39m response = \u001b[43mrpc\u001b[49m\u001b[43m(\u001b[49m\n\u001b[32m    869\u001b[39m \u001b[43m    \u001b[49m\u001b[43mrequest\u001b[49m\u001b[43m,\u001b[49m\n\u001b[32m    870\u001b[39m \u001b[43m    \u001b[49m\u001b[43mretry\u001b[49m\u001b[43m=\u001b[49m\u001b[43mretry\u001b[49m\u001b[43m,\u001b[49m\n\u001b[32m    871\u001b[39m \u001b[43m    \u001b[49m\u001b[43mtimeout\u001b[49m\u001b[43m=\u001b[49m\u001b[43mtimeout\u001b[49m\u001b[43m,\u001b[49m\n\u001b[32m    872\u001b[39m \u001b[43m    \u001b[49m\u001b[43mmetadata\u001b[49m\u001b[43m=\u001b[49m\u001b[43mmetadata\u001b[49m\u001b[43m,\u001b[49m\n\u001b[32m    873\u001b[39m \u001b[43m\u001b[49m\u001b[43m)\u001b[49m\n\u001b[32m    875\u001b[39m \u001b[38;5;66;03m# Done; return the response.\u001b[39;00m\n",
      "\u001b[36mFile \u001b[39m\u001b[32mc:\\Users\\Hyder\\anaconda3\\envs\\langenv\\Lib\\site-packages\\google\\api_core\\gapic_v1\\method.py:131\u001b[39m, in \u001b[36m_GapicCallable.__call__\u001b[39m\u001b[34m(self, timeout, retry, compression, *args, **kwargs)\u001b[39m\n\u001b[32m    129\u001b[39m     kwargs[\u001b[33m\"\u001b[39m\u001b[33mcompression\u001b[39m\u001b[33m\"\u001b[39m] = compression\n\u001b[32m--> \u001b[39m\u001b[32m131\u001b[39m \u001b[38;5;28;01mreturn\u001b[39;00m \u001b[43mwrapped_func\u001b[49m\u001b[43m(\u001b[49m\u001b[43m*\u001b[49m\u001b[43margs\u001b[49m\u001b[43m,\u001b[49m\u001b[43m \u001b[49m\u001b[43m*\u001b[49m\u001b[43m*\u001b[49m\u001b[43mkwargs\u001b[49m\u001b[43m)\u001b[49m\n",
      "\u001b[36mFile \u001b[39m\u001b[32mc:\\Users\\Hyder\\anaconda3\\envs\\langenv\\Lib\\site-packages\\google\\api_core\\retry\\retry_unary.py:294\u001b[39m, in \u001b[36mRetry.__call__.<locals>.retry_wrapped_func\u001b[39m\u001b[34m(*args, **kwargs)\u001b[39m\n\u001b[32m    291\u001b[39m sleep_generator = exponential_sleep_generator(\n\u001b[32m    292\u001b[39m     \u001b[38;5;28mself\u001b[39m._initial, \u001b[38;5;28mself\u001b[39m._maximum, multiplier=\u001b[38;5;28mself\u001b[39m._multiplier\n\u001b[32m    293\u001b[39m )\n\u001b[32m--> \u001b[39m\u001b[32m294\u001b[39m \u001b[38;5;28;01mreturn\u001b[39;00m \u001b[43mretry_target\u001b[49m\u001b[43m(\u001b[49m\n\u001b[32m    295\u001b[39m \u001b[43m    \u001b[49m\u001b[43mtarget\u001b[49m\u001b[43m,\u001b[49m\n\u001b[32m    296\u001b[39m \u001b[43m    \u001b[49m\u001b[38;5;28;43mself\u001b[39;49m\u001b[43m.\u001b[49m\u001b[43m_predicate\u001b[49m\u001b[43m,\u001b[49m\n\u001b[32m    297\u001b[39m \u001b[43m    \u001b[49m\u001b[43msleep_generator\u001b[49m\u001b[43m,\u001b[49m\n\u001b[32m    298\u001b[39m \u001b[43m    \u001b[49m\u001b[43mtimeout\u001b[49m\u001b[43m=\u001b[49m\u001b[38;5;28;43mself\u001b[39;49m\u001b[43m.\u001b[49m\u001b[43m_timeout\u001b[49m\u001b[43m,\u001b[49m\n\u001b[32m    299\u001b[39m \u001b[43m    \u001b[49m\u001b[43mon_error\u001b[49m\u001b[43m=\u001b[49m\u001b[43mon_error\u001b[49m\u001b[43m,\u001b[49m\n\u001b[32m    300\u001b[39m \u001b[43m\u001b[49m\u001b[43m)\u001b[49m\n",
      "\u001b[36mFile \u001b[39m\u001b[32mc:\\Users\\Hyder\\anaconda3\\envs\\langenv\\Lib\\site-packages\\google\\api_core\\retry\\retry_unary.py:156\u001b[39m, in \u001b[36mretry_target\u001b[39m\u001b[34m(target, predicate, sleep_generator, timeout, on_error, exception_factory, **kwargs)\u001b[39m\n\u001b[32m    154\u001b[39m \u001b[38;5;28;01mexcept\u001b[39;00m \u001b[38;5;167;01mException\u001b[39;00m \u001b[38;5;28;01mas\u001b[39;00m exc:\n\u001b[32m    155\u001b[39m     \u001b[38;5;66;03m# defer to shared logic for handling errors\u001b[39;00m\n\u001b[32m--> \u001b[39m\u001b[32m156\u001b[39m     next_sleep = \u001b[43m_retry_error_helper\u001b[49m\u001b[43m(\u001b[49m\n\u001b[32m    157\u001b[39m \u001b[43m        \u001b[49m\u001b[43mexc\u001b[49m\u001b[43m,\u001b[49m\n\u001b[32m    158\u001b[39m \u001b[43m        \u001b[49m\u001b[43mdeadline\u001b[49m\u001b[43m,\u001b[49m\n\u001b[32m    159\u001b[39m \u001b[43m        \u001b[49m\u001b[43msleep_iter\u001b[49m\u001b[43m,\u001b[49m\n\u001b[32m    160\u001b[39m \u001b[43m        \u001b[49m\u001b[43merror_list\u001b[49m\u001b[43m,\u001b[49m\n\u001b[32m    161\u001b[39m \u001b[43m        \u001b[49m\u001b[43mpredicate\u001b[49m\u001b[43m,\u001b[49m\n\u001b[32m    162\u001b[39m \u001b[43m        \u001b[49m\u001b[43mon_error\u001b[49m\u001b[43m,\u001b[49m\n\u001b[32m    163\u001b[39m \u001b[43m        \u001b[49m\u001b[43mexception_factory\u001b[49m\u001b[43m,\u001b[49m\n\u001b[32m    164\u001b[39m \u001b[43m        \u001b[49m\u001b[43mtimeout\u001b[49m\u001b[43m,\u001b[49m\n\u001b[32m    165\u001b[39m \u001b[43m    \u001b[49m\u001b[43m)\u001b[49m\n\u001b[32m    166\u001b[39m     \u001b[38;5;66;03m# if exception not raised, sleep before next attempt\u001b[39;00m\n",
      "\u001b[36mFile \u001b[39m\u001b[32mc:\\Users\\Hyder\\anaconda3\\envs\\langenv\\Lib\\site-packages\\google\\api_core\\retry\\retry_base.py:214\u001b[39m, in \u001b[36m_retry_error_helper\u001b[39m\u001b[34m(exc, deadline, sleep_iterator, error_list, predicate_fn, on_error_fn, exc_factory_fn, original_timeout)\u001b[39m\n\u001b[32m    209\u001b[39m     final_exc, source_exc = exc_factory_fn(\n\u001b[32m    210\u001b[39m         error_list,\n\u001b[32m    211\u001b[39m         RetryFailureReason.NON_RETRYABLE_ERROR,\n\u001b[32m    212\u001b[39m         original_timeout,\n\u001b[32m    213\u001b[39m     )\n\u001b[32m--> \u001b[39m\u001b[32m214\u001b[39m     \u001b[38;5;28;01mraise\u001b[39;00m final_exc \u001b[38;5;28;01mfrom\u001b[39;00m\u001b[38;5;250m \u001b[39m\u001b[34;01msource_exc\u001b[39;00m\n\u001b[32m    215\u001b[39m \u001b[38;5;28;01mif\u001b[39;00m on_error_fn \u001b[38;5;129;01mis\u001b[39;00m \u001b[38;5;129;01mnot\u001b[39;00m \u001b[38;5;28;01mNone\u001b[39;00m:\n",
      "\u001b[36mFile \u001b[39m\u001b[32mc:\\Users\\Hyder\\anaconda3\\envs\\langenv\\Lib\\site-packages\\google\\api_core\\retry\\retry_unary.py:147\u001b[39m, in \u001b[36mretry_target\u001b[39m\u001b[34m(target, predicate, sleep_generator, timeout, on_error, exception_factory, **kwargs)\u001b[39m\n\u001b[32m    146\u001b[39m \u001b[38;5;28;01mtry\u001b[39;00m:\n\u001b[32m--> \u001b[39m\u001b[32m147\u001b[39m     result = \u001b[43mtarget\u001b[49m\u001b[43m(\u001b[49m\u001b[43m)\u001b[49m\n\u001b[32m    148\u001b[39m     \u001b[38;5;28;01mif\u001b[39;00m inspect.isawaitable(result):\n",
      "\u001b[36mFile \u001b[39m\u001b[32mc:\\Users\\Hyder\\anaconda3\\envs\\langenv\\Lib\\site-packages\\google\\api_core\\timeout.py:130\u001b[39m, in \u001b[36mTimeToDeadlineTimeout.__call__.<locals>.func_with_timeout\u001b[39m\u001b[34m(*args, **kwargs)\u001b[39m\n\u001b[32m    128\u001b[39m     kwargs[\u001b[33m\"\u001b[39m\u001b[33mtimeout\u001b[39m\u001b[33m\"\u001b[39m] = remaining_timeout\n\u001b[32m--> \u001b[39m\u001b[32m130\u001b[39m \u001b[38;5;28;01mreturn\u001b[39;00m \u001b[43mfunc\u001b[49m\u001b[43m(\u001b[49m\u001b[43m*\u001b[49m\u001b[43margs\u001b[49m\u001b[43m,\u001b[49m\u001b[43m \u001b[49m\u001b[43m*\u001b[49m\u001b[43m*\u001b[49m\u001b[43mkwargs\u001b[49m\u001b[43m)\u001b[49m\n",
      "\u001b[36mFile \u001b[39m\u001b[32mc:\\Users\\Hyder\\anaconda3\\envs\\langenv\\Lib\\site-packages\\google\\api_core\\grpc_helpers.py:78\u001b[39m, in \u001b[36m_wrap_unary_errors.<locals>.error_remapped_callable\u001b[39m\u001b[34m(*args, **kwargs)\u001b[39m\n\u001b[32m     77\u001b[39m \u001b[38;5;28;01mexcept\u001b[39;00m grpc.RpcError \u001b[38;5;28;01mas\u001b[39;00m exc:\n\u001b[32m---> \u001b[39m\u001b[32m78\u001b[39m     \u001b[38;5;28;01mraise\u001b[39;00m exceptions.from_grpc_error(exc) \u001b[38;5;28;01mfrom\u001b[39;00m\u001b[38;5;250m \u001b[39m\u001b[34;01mexc\u001b[39;00m\n",
      "\u001b[31mInvalidArgument\u001b[39m: 400 API key expired. Please renew the API key. [reason: \"API_KEY_INVALID\"\ndomain: \"googleapis.com\"\nmetadata {\n  key: \"service\"\n  value: \"generativelanguage.googleapis.com\"\n}\n, locale: \"en-US\"\nmessage: \"API key expired. Please renew the API key.\"\n]",
      "\nThe above exception was the direct cause of the following exception:\n",
      "\u001b[31mChatGoogleGenerativeAIError\u001b[39m               Traceback (most recent call last)",
      "\u001b[36mCell\u001b[39m\u001b[36m \u001b[39m\u001b[32mIn[12]\u001b[39m\u001b[32m, line 1\u001b[39m\n\u001b[32m----> \u001b[39m\u001b[32m1\u001b[39m story=\u001b[43mprompt_refinner\u001b[49m\u001b[43m(\u001b[49m\u001b[43m{\u001b[49m\u001b[33;43m'\u001b[39;49m\u001b[33;43minput_story\u001b[39;49m\u001b[33;43m'\u001b[39;49m\u001b[43m:\u001b[49m\u001b[33;43m\"\u001b[39;49m\u001b[33;43mA boy finds a magic sword.\u001b[39;49m\u001b[33;43m\"\u001b[39;49m\u001b[43m}\u001b[49m\u001b[43m)\u001b[49m\n\u001b[32m      2\u001b[39m features=feature_extractor({\u001b[33m\"\u001b[39m\u001b[33mrefined_story\u001b[39m\u001b[33m\"\u001b[39m:story})\n\u001b[32m      3\u001b[39m \u001b[38;5;66;03m#character_makeup=character_makeup({\"refined_story\": story[\"refined_story\"], \"extracted_features\": features[\"extracted_feature\"]})\u001b[39;00m\n",
      "\u001b[36mCell\u001b[39m\u001b[36m \u001b[39m\u001b[32mIn[11]\u001b[39m\u001b[32m, line 22\u001b[39m, in \u001b[36mprompt_refinner\u001b[39m\u001b[34m(state)\u001b[39m\n\u001b[32m      2\u001b[39m user_story=state[\u001b[33m'\u001b[39m\u001b[33minput_story\u001b[39m\u001b[33m'\u001b[39m]\n\u001b[32m      3\u001b[39m prompt=\u001b[33mf\u001b[39m\u001b[33m'''\u001b[39m\n\u001b[32m      4\u001b[39m \u001b[33m        You are a professional manga storyteller. \u001b[39m\n\u001b[32m      5\u001b[39m \u001b[33m        Your job is to take a short user query and refine it into a concise manga-style story \u001b[39m\n\u001b[32m   (...)\u001b[39m\u001b[32m     20\u001b[39m \u001b[33m        Refined Manga Story:\u001b[39m\n\u001b[32m     21\u001b[39m \u001b[33m        \u001b[39m\u001b[33m'''\u001b[39m\n\u001b[32m---> \u001b[39m\u001b[32m22\u001b[39m refine_output=\u001b[43mmodel\u001b[49m\u001b[43m.\u001b[49m\u001b[43minvoke\u001b[49m\u001b[43m(\u001b[49m\u001b[43mprompt\u001b[49m\u001b[43m)\u001b[49m.content\n\u001b[32m     23\u001b[39m \u001b[38;5;28;01mreturn\u001b[39;00m {\u001b[33m\"\u001b[39m\u001b[33mrefined_story\u001b[39m\u001b[33m\"\u001b[39m:refine_output}\n",
      "\u001b[36mFile \u001b[39m\u001b[32mc:\\Users\\Hyder\\anaconda3\\envs\\langenv\\Lib\\site-packages\\langchain_google_genai\\chat_models.py:1490\u001b[39m, in \u001b[36mChatGoogleGenerativeAI.invoke\u001b[39m\u001b[34m(self, input, config, code_execution, stop, **kwargs)\u001b[39m\n\u001b[32m   1485\u001b[39m     \u001b[38;5;28;01melse\u001b[39;00m:\n\u001b[32m   1486\u001b[39m         \u001b[38;5;28;01mraise\u001b[39;00m \u001b[38;5;167;01mValueError\u001b[39;00m(\n\u001b[32m   1487\u001b[39m             \u001b[33m\"\u001b[39m\u001b[33mTools are already defined.code_execution tool can\u001b[39m\u001b[33m'\u001b[39m\u001b[33mt be defined\u001b[39m\u001b[33m\"\u001b[39m\n\u001b[32m   1488\u001b[39m         )\n\u001b[32m-> \u001b[39m\u001b[32m1490\u001b[39m \u001b[38;5;28;01mreturn\u001b[39;00m \u001b[38;5;28;43msuper\u001b[39;49m\u001b[43m(\u001b[49m\u001b[43m)\u001b[49m\u001b[43m.\u001b[49m\u001b[43minvoke\u001b[49m\u001b[43m(\u001b[49m\u001b[38;5;28;43minput\u001b[39;49m\u001b[43m,\u001b[49m\u001b[43m \u001b[49m\u001b[43mconfig\u001b[49m\u001b[43m,\u001b[49m\u001b[43m \u001b[49m\u001b[43mstop\u001b[49m\u001b[43m=\u001b[49m\u001b[43mstop\u001b[49m\u001b[43m,\u001b[49m\u001b[43m \u001b[49m\u001b[43m*\u001b[49m\u001b[43m*\u001b[49m\u001b[43mkwargs\u001b[49m\u001b[43m)\u001b[49m\n",
      "\u001b[36mFile \u001b[39m\u001b[32mc:\\Users\\Hyder\\anaconda3\\envs\\langenv\\Lib\\site-packages\\langchain_core\\language_models\\chat_models.py:393\u001b[39m, in \u001b[36mBaseChatModel.invoke\u001b[39m\u001b[34m(self, input, config, stop, **kwargs)\u001b[39m\n\u001b[32m    381\u001b[39m \u001b[38;5;129m@override\u001b[39m\n\u001b[32m    382\u001b[39m \u001b[38;5;28;01mdef\u001b[39;00m\u001b[38;5;250m \u001b[39m\u001b[34minvoke\u001b[39m(\n\u001b[32m    383\u001b[39m     \u001b[38;5;28mself\u001b[39m,\n\u001b[32m   (...)\u001b[39m\u001b[32m    388\u001b[39m     **kwargs: Any,\n\u001b[32m    389\u001b[39m ) -> BaseMessage:\n\u001b[32m    390\u001b[39m     config = ensure_config(config)\n\u001b[32m    391\u001b[39m     \u001b[38;5;28;01mreturn\u001b[39;00m cast(\n\u001b[32m    392\u001b[39m         \u001b[33m\"\u001b[39m\u001b[33mChatGeneration\u001b[39m\u001b[33m\"\u001b[39m,\n\u001b[32m--> \u001b[39m\u001b[32m393\u001b[39m         \u001b[38;5;28;43mself\u001b[39;49m\u001b[43m.\u001b[49m\u001b[43mgenerate_prompt\u001b[49m\u001b[43m(\u001b[49m\n\u001b[32m    394\u001b[39m \u001b[43m            \u001b[49m\u001b[43m[\u001b[49m\u001b[38;5;28;43mself\u001b[39;49m\u001b[43m.\u001b[49m\u001b[43m_convert_input\u001b[49m\u001b[43m(\u001b[49m\u001b[38;5;28;43minput\u001b[39;49m\u001b[43m)\u001b[49m\u001b[43m]\u001b[49m\u001b[43m,\u001b[49m\n\u001b[32m    395\u001b[39m \u001b[43m            \u001b[49m\u001b[43mstop\u001b[49m\u001b[43m=\u001b[49m\u001b[43mstop\u001b[49m\u001b[43m,\u001b[49m\n\u001b[32m    396\u001b[39m \u001b[43m            \u001b[49m\u001b[43mcallbacks\u001b[49m\u001b[43m=\u001b[49m\u001b[43mconfig\u001b[49m\u001b[43m.\u001b[49m\u001b[43mget\u001b[49m\u001b[43m(\u001b[49m\u001b[33;43m\"\u001b[39;49m\u001b[33;43mcallbacks\u001b[39;49m\u001b[33;43m\"\u001b[39;49m\u001b[43m)\u001b[49m\u001b[43m,\u001b[49m\n\u001b[32m    397\u001b[39m \u001b[43m            \u001b[49m\u001b[43mtags\u001b[49m\u001b[43m=\u001b[49m\u001b[43mconfig\u001b[49m\u001b[43m.\u001b[49m\u001b[43mget\u001b[49m\u001b[43m(\u001b[49m\u001b[33;43m\"\u001b[39;49m\u001b[33;43mtags\u001b[39;49m\u001b[33;43m\"\u001b[39;49m\u001b[43m)\u001b[49m\u001b[43m,\u001b[49m\n\u001b[32m    398\u001b[39m \u001b[43m            \u001b[49m\u001b[43mmetadata\u001b[49m\u001b[43m=\u001b[49m\u001b[43mconfig\u001b[49m\u001b[43m.\u001b[49m\u001b[43mget\u001b[49m\u001b[43m(\u001b[49m\u001b[33;43m\"\u001b[39;49m\u001b[33;43mmetadata\u001b[39;49m\u001b[33;43m\"\u001b[39;49m\u001b[43m)\u001b[49m\u001b[43m,\u001b[49m\n\u001b[32m    399\u001b[39m \u001b[43m            \u001b[49m\u001b[43mrun_name\u001b[49m\u001b[43m=\u001b[49m\u001b[43mconfig\u001b[49m\u001b[43m.\u001b[49m\u001b[43mget\u001b[49m\u001b[43m(\u001b[49m\u001b[33;43m\"\u001b[39;49m\u001b[33;43mrun_name\u001b[39;49m\u001b[33;43m\"\u001b[39;49m\u001b[43m)\u001b[49m\u001b[43m,\u001b[49m\n\u001b[32m    400\u001b[39m \u001b[43m            \u001b[49m\u001b[43mrun_id\u001b[49m\u001b[43m=\u001b[49m\u001b[43mconfig\u001b[49m\u001b[43m.\u001b[49m\u001b[43mpop\u001b[49m\u001b[43m(\u001b[49m\u001b[33;43m\"\u001b[39;49m\u001b[33;43mrun_id\u001b[39;49m\u001b[33;43m\"\u001b[39;49m\u001b[43m,\u001b[49m\u001b[43m \u001b[49m\u001b[38;5;28;43;01mNone\u001b[39;49;00m\u001b[43m)\u001b[49m\u001b[43m,\u001b[49m\n\u001b[32m    401\u001b[39m \u001b[43m            \u001b[49m\u001b[43m*\u001b[49m\u001b[43m*\u001b[49m\u001b[43mkwargs\u001b[49m\u001b[43m,\u001b[49m\n\u001b[32m    402\u001b[39m \u001b[43m        \u001b[49m\u001b[43m)\u001b[49m.generations[\u001b[32m0\u001b[39m][\u001b[32m0\u001b[39m],\n\u001b[32m    403\u001b[39m     ).message\n",
      "\u001b[36mFile \u001b[39m\u001b[32mc:\\Users\\Hyder\\anaconda3\\envs\\langenv\\Lib\\site-packages\\langchain_core\\language_models\\chat_models.py:1019\u001b[39m, in \u001b[36mBaseChatModel.generate_prompt\u001b[39m\u001b[34m(self, prompts, stop, callbacks, **kwargs)\u001b[39m\n\u001b[32m   1010\u001b[39m \u001b[38;5;129m@override\u001b[39m\n\u001b[32m   1011\u001b[39m \u001b[38;5;28;01mdef\u001b[39;00m\u001b[38;5;250m \u001b[39m\u001b[34mgenerate_prompt\u001b[39m(\n\u001b[32m   1012\u001b[39m     \u001b[38;5;28mself\u001b[39m,\n\u001b[32m   (...)\u001b[39m\u001b[32m   1016\u001b[39m     **kwargs: Any,\n\u001b[32m   1017\u001b[39m ) -> LLMResult:\n\u001b[32m   1018\u001b[39m     prompt_messages = [p.to_messages() \u001b[38;5;28;01mfor\u001b[39;00m p \u001b[38;5;129;01min\u001b[39;00m prompts]\n\u001b[32m-> \u001b[39m\u001b[32m1019\u001b[39m     \u001b[38;5;28;01mreturn\u001b[39;00m \u001b[38;5;28;43mself\u001b[39;49m\u001b[43m.\u001b[49m\u001b[43mgenerate\u001b[49m\u001b[43m(\u001b[49m\u001b[43mprompt_messages\u001b[49m\u001b[43m,\u001b[49m\u001b[43m \u001b[49m\u001b[43mstop\u001b[49m\u001b[43m=\u001b[49m\u001b[43mstop\u001b[49m\u001b[43m,\u001b[49m\u001b[43m \u001b[49m\u001b[43mcallbacks\u001b[49m\u001b[43m=\u001b[49m\u001b[43mcallbacks\u001b[49m\u001b[43m,\u001b[49m\u001b[43m \u001b[49m\u001b[43m*\u001b[49m\u001b[43m*\u001b[49m\u001b[43mkwargs\u001b[49m\u001b[43m)\u001b[49m\n",
      "\u001b[36mFile \u001b[39m\u001b[32mc:\\Users\\Hyder\\anaconda3\\envs\\langenv\\Lib\\site-packages\\langchain_core\\language_models\\chat_models.py:837\u001b[39m, in \u001b[36mBaseChatModel.generate\u001b[39m\u001b[34m(self, messages, stop, callbacks, tags, metadata, run_name, run_id, **kwargs)\u001b[39m\n\u001b[32m    834\u001b[39m \u001b[38;5;28;01mfor\u001b[39;00m i, m \u001b[38;5;129;01min\u001b[39;00m \u001b[38;5;28menumerate\u001b[39m(input_messages):\n\u001b[32m    835\u001b[39m     \u001b[38;5;28;01mtry\u001b[39;00m:\n\u001b[32m    836\u001b[39m         results.append(\n\u001b[32m--> \u001b[39m\u001b[32m837\u001b[39m             \u001b[38;5;28;43mself\u001b[39;49m\u001b[43m.\u001b[49m\u001b[43m_generate_with_cache\u001b[49m\u001b[43m(\u001b[49m\n\u001b[32m    838\u001b[39m \u001b[43m                \u001b[49m\u001b[43mm\u001b[49m\u001b[43m,\u001b[49m\n\u001b[32m    839\u001b[39m \u001b[43m                \u001b[49m\u001b[43mstop\u001b[49m\u001b[43m=\u001b[49m\u001b[43mstop\u001b[49m\u001b[43m,\u001b[49m\n\u001b[32m    840\u001b[39m \u001b[43m                \u001b[49m\u001b[43mrun_manager\u001b[49m\u001b[43m=\u001b[49m\u001b[43mrun_managers\u001b[49m\u001b[43m[\u001b[49m\u001b[43mi\u001b[49m\u001b[43m]\u001b[49m\u001b[43m \u001b[49m\u001b[38;5;28;43;01mif\u001b[39;49;00m\u001b[43m \u001b[49m\u001b[43mrun_managers\u001b[49m\u001b[43m \u001b[49m\u001b[38;5;28;43;01melse\u001b[39;49;00m\u001b[43m \u001b[49m\u001b[38;5;28;43;01mNone\u001b[39;49;00m\u001b[43m,\u001b[49m\n\u001b[32m    841\u001b[39m \u001b[43m                \u001b[49m\u001b[43m*\u001b[49m\u001b[43m*\u001b[49m\u001b[43mkwargs\u001b[49m\u001b[43m,\u001b[49m\n\u001b[32m    842\u001b[39m \u001b[43m            \u001b[49m\u001b[43m)\u001b[49m\n\u001b[32m    843\u001b[39m         )\n\u001b[32m    844\u001b[39m     \u001b[38;5;28;01mexcept\u001b[39;00m \u001b[38;5;167;01mBaseException\u001b[39;00m \u001b[38;5;28;01mas\u001b[39;00m e:\n\u001b[32m    845\u001b[39m         \u001b[38;5;28;01mif\u001b[39;00m run_managers:\n",
      "\u001b[36mFile \u001b[39m\u001b[32mc:\\Users\\Hyder\\anaconda3\\envs\\langenv\\Lib\\site-packages\\langchain_core\\language_models\\chat_models.py:1085\u001b[39m, in \u001b[36mBaseChatModel._generate_with_cache\u001b[39m\u001b[34m(self, messages, stop, run_manager, **kwargs)\u001b[39m\n\u001b[32m   1083\u001b[39m     result = generate_from_stream(\u001b[38;5;28miter\u001b[39m(chunks))\n\u001b[32m   1084\u001b[39m \u001b[38;5;28;01melif\u001b[39;00m inspect.signature(\u001b[38;5;28mself\u001b[39m._generate).parameters.get(\u001b[33m\"\u001b[39m\u001b[33mrun_manager\u001b[39m\u001b[33m\"\u001b[39m):\n\u001b[32m-> \u001b[39m\u001b[32m1085\u001b[39m     result = \u001b[38;5;28;43mself\u001b[39;49m\u001b[43m.\u001b[49m\u001b[43m_generate\u001b[49m\u001b[43m(\u001b[49m\n\u001b[32m   1086\u001b[39m \u001b[43m        \u001b[49m\u001b[43mmessages\u001b[49m\u001b[43m,\u001b[49m\u001b[43m \u001b[49m\u001b[43mstop\u001b[49m\u001b[43m=\u001b[49m\u001b[43mstop\u001b[49m\u001b[43m,\u001b[49m\u001b[43m \u001b[49m\u001b[43mrun_manager\u001b[49m\u001b[43m=\u001b[49m\u001b[43mrun_manager\u001b[49m\u001b[43m,\u001b[49m\u001b[43m \u001b[49m\u001b[43m*\u001b[49m\u001b[43m*\u001b[49m\u001b[43mkwargs\u001b[49m\n\u001b[32m   1087\u001b[39m \u001b[43m    \u001b[49m\u001b[43m)\u001b[49m\n\u001b[32m   1088\u001b[39m \u001b[38;5;28;01melse\u001b[39;00m:\n\u001b[32m   1089\u001b[39m     result = \u001b[38;5;28mself\u001b[39m._generate(messages, stop=stop, **kwargs)\n",
      "\u001b[36mFile \u001b[39m\u001b[32mc:\\Users\\Hyder\\anaconda3\\envs\\langenv\\Lib\\site-packages\\langchain_google_genai\\chat_models.py:1597\u001b[39m, in \u001b[36mChatGoogleGenerativeAI._generate\u001b[39m\u001b[34m(self, messages, stop, run_manager, tools, functions, safety_settings, tool_config, generation_config, cached_content, tool_choice, **kwargs)\u001b[39m\n\u001b[32m   1570\u001b[39m \u001b[38;5;28;01mdef\u001b[39;00m\u001b[38;5;250m \u001b[39m\u001b[34m_generate\u001b[39m(\n\u001b[32m   1571\u001b[39m     \u001b[38;5;28mself\u001b[39m,\n\u001b[32m   1572\u001b[39m     messages: List[BaseMessage],\n\u001b[32m   (...)\u001b[39m\u001b[32m   1583\u001b[39m     **kwargs: Any,\n\u001b[32m   1584\u001b[39m ) -> ChatResult:\n\u001b[32m   1585\u001b[39m     request = \u001b[38;5;28mself\u001b[39m._prepare_request(\n\u001b[32m   1586\u001b[39m         messages,\n\u001b[32m   1587\u001b[39m         stop=stop,\n\u001b[32m   (...)\u001b[39m\u001b[32m   1595\u001b[39m         **kwargs,\n\u001b[32m   1596\u001b[39m     )\n\u001b[32m-> \u001b[39m\u001b[32m1597\u001b[39m     response: GenerateContentResponse = \u001b[43m_chat_with_retry\u001b[49m\u001b[43m(\u001b[49m\n\u001b[32m   1598\u001b[39m \u001b[43m        \u001b[49m\u001b[43mrequest\u001b[49m\u001b[43m=\u001b[49m\u001b[43mrequest\u001b[49m\u001b[43m,\u001b[49m\n\u001b[32m   1599\u001b[39m \u001b[43m        \u001b[49m\u001b[43m*\u001b[49m\u001b[43m*\u001b[49m\u001b[43mkwargs\u001b[49m\u001b[43m,\u001b[49m\n\u001b[32m   1600\u001b[39m \u001b[43m        \u001b[49m\u001b[43mgeneration_method\u001b[49m\u001b[43m=\u001b[49m\u001b[38;5;28;43mself\u001b[39;49m\u001b[43m.\u001b[49m\u001b[43mclient\u001b[49m\u001b[43m.\u001b[49m\u001b[43mgenerate_content\u001b[49m\u001b[43m,\u001b[49m\n\u001b[32m   1601\u001b[39m \u001b[43m        \u001b[49m\u001b[43mmetadata\u001b[49m\u001b[43m=\u001b[49m\u001b[38;5;28;43mself\u001b[39;49m\u001b[43m.\u001b[49m\u001b[43mdefault_metadata\u001b[49m\u001b[43m,\u001b[49m\n\u001b[32m   1602\u001b[39m \u001b[43m    \u001b[49m\u001b[43m)\u001b[49m\n\u001b[32m   1603\u001b[39m     \u001b[38;5;28;01mreturn\u001b[39;00m _response_to_result(response)\n",
      "\u001b[36mFile \u001b[39m\u001b[32mc:\\Users\\Hyder\\anaconda3\\envs\\langenv\\Lib\\site-packages\\langchain_google_genai\\chat_models.py:247\u001b[39m, in \u001b[36m_chat_with_retry\u001b[39m\u001b[34m(generation_method, **kwargs)\u001b[39m\n\u001b[32m    238\u001b[39m         \u001b[38;5;28;01mraise\u001b[39;00m e\n\u001b[32m    240\u001b[39m params = (\n\u001b[32m    241\u001b[39m     {k: v \u001b[38;5;28;01mfor\u001b[39;00m k, v \u001b[38;5;129;01min\u001b[39;00m kwargs.items() \u001b[38;5;28;01mif\u001b[39;00m k \u001b[38;5;129;01min\u001b[39;00m _allowed_params_prediction_service}\n\u001b[32m    242\u001b[39m     \u001b[38;5;28;01mif\u001b[39;00m (request := kwargs.get(\u001b[33m\"\u001b[39m\u001b[33mrequest\u001b[39m\u001b[33m\"\u001b[39m))\n\u001b[32m   (...)\u001b[39m\u001b[32m    245\u001b[39m     \u001b[38;5;28;01melse\u001b[39;00m kwargs\n\u001b[32m    246\u001b[39m )\n\u001b[32m--> \u001b[39m\u001b[32m247\u001b[39m \u001b[38;5;28;01mreturn\u001b[39;00m \u001b[43m_chat_with_retry\u001b[49m\u001b[43m(\u001b[49m\u001b[43m*\u001b[49m\u001b[43m*\u001b[49m\u001b[43mparams\u001b[49m\u001b[43m)\u001b[49m\n",
      "\u001b[36mFile \u001b[39m\u001b[32mc:\\Users\\Hyder\\anaconda3\\envs\\langenv\\Lib\\site-packages\\tenacity\\__init__.py:338\u001b[39m, in \u001b[36mBaseRetrying.wraps.<locals>.wrapped_f\u001b[39m\u001b[34m(*args, **kw)\u001b[39m\n\u001b[32m    336\u001b[39m copy = \u001b[38;5;28mself\u001b[39m.copy()\n\u001b[32m    337\u001b[39m wrapped_f.statistics = copy.statistics  \u001b[38;5;66;03m# type: ignore[attr-defined]\u001b[39;00m\n\u001b[32m--> \u001b[39m\u001b[32m338\u001b[39m \u001b[38;5;28;01mreturn\u001b[39;00m \u001b[43mcopy\u001b[49m\u001b[43m(\u001b[49m\u001b[43mf\u001b[49m\u001b[43m,\u001b[49m\u001b[43m \u001b[49m\u001b[43m*\u001b[49m\u001b[43margs\u001b[49m\u001b[43m,\u001b[49m\u001b[43m \u001b[49m\u001b[43m*\u001b[49m\u001b[43m*\u001b[49m\u001b[43mkw\u001b[49m\u001b[43m)\u001b[49m\n",
      "\u001b[36mFile \u001b[39m\u001b[32mc:\\Users\\Hyder\\anaconda3\\envs\\langenv\\Lib\\site-packages\\tenacity\\__init__.py:477\u001b[39m, in \u001b[36mRetrying.__call__\u001b[39m\u001b[34m(self, fn, *args, **kwargs)\u001b[39m\n\u001b[32m    475\u001b[39m retry_state = RetryCallState(retry_object=\u001b[38;5;28mself\u001b[39m, fn=fn, args=args, kwargs=kwargs)\n\u001b[32m    476\u001b[39m \u001b[38;5;28;01mwhile\u001b[39;00m \u001b[38;5;28;01mTrue\u001b[39;00m:\n\u001b[32m--> \u001b[39m\u001b[32m477\u001b[39m     do = \u001b[38;5;28;43mself\u001b[39;49m\u001b[43m.\u001b[49m\u001b[43miter\u001b[49m\u001b[43m(\u001b[49m\u001b[43mretry_state\u001b[49m\u001b[43m=\u001b[49m\u001b[43mretry_state\u001b[49m\u001b[43m)\u001b[49m\n\u001b[32m    478\u001b[39m     \u001b[38;5;28;01mif\u001b[39;00m \u001b[38;5;28misinstance\u001b[39m(do, DoAttempt):\n\u001b[32m    479\u001b[39m         \u001b[38;5;28;01mtry\u001b[39;00m:\n",
      "\u001b[36mFile \u001b[39m\u001b[32mc:\\Users\\Hyder\\anaconda3\\envs\\langenv\\Lib\\site-packages\\tenacity\\__init__.py:378\u001b[39m, in \u001b[36mBaseRetrying.iter\u001b[39m\u001b[34m(self, retry_state)\u001b[39m\n\u001b[32m    376\u001b[39m result = \u001b[38;5;28;01mNone\u001b[39;00m\n\u001b[32m    377\u001b[39m \u001b[38;5;28;01mfor\u001b[39;00m action \u001b[38;5;129;01min\u001b[39;00m \u001b[38;5;28mself\u001b[39m.iter_state.actions:\n\u001b[32m--> \u001b[39m\u001b[32m378\u001b[39m     result = \u001b[43maction\u001b[49m\u001b[43m(\u001b[49m\u001b[43mretry_state\u001b[49m\u001b[43m)\u001b[49m\n\u001b[32m    379\u001b[39m \u001b[38;5;28;01mreturn\u001b[39;00m result\n",
      "\u001b[36mFile \u001b[39m\u001b[32mc:\\Users\\Hyder\\anaconda3\\envs\\langenv\\Lib\\site-packages\\tenacity\\__init__.py:400\u001b[39m, in \u001b[36mBaseRetrying._post_retry_check_actions.<locals>.<lambda>\u001b[39m\u001b[34m(rs)\u001b[39m\n\u001b[32m    398\u001b[39m \u001b[38;5;28;01mdef\u001b[39;00m\u001b[38;5;250m \u001b[39m\u001b[34m_post_retry_check_actions\u001b[39m(\u001b[38;5;28mself\u001b[39m, retry_state: \u001b[33m\"\u001b[39m\u001b[33mRetryCallState\u001b[39m\u001b[33m\"\u001b[39m) -> \u001b[38;5;28;01mNone\u001b[39;00m:\n\u001b[32m    399\u001b[39m     \u001b[38;5;28;01mif\u001b[39;00m \u001b[38;5;129;01mnot\u001b[39;00m (\u001b[38;5;28mself\u001b[39m.iter_state.is_explicit_retry \u001b[38;5;129;01mor\u001b[39;00m \u001b[38;5;28mself\u001b[39m.iter_state.retry_run_result):\n\u001b[32m--> \u001b[39m\u001b[32m400\u001b[39m         \u001b[38;5;28mself\u001b[39m._add_action_func(\u001b[38;5;28;01mlambda\u001b[39;00m rs: \u001b[43mrs\u001b[49m\u001b[43m.\u001b[49m\u001b[43moutcome\u001b[49m\u001b[43m.\u001b[49m\u001b[43mresult\u001b[49m\u001b[43m(\u001b[49m\u001b[43m)\u001b[49m)\n\u001b[32m    401\u001b[39m         \u001b[38;5;28;01mreturn\u001b[39;00m\n\u001b[32m    403\u001b[39m     \u001b[38;5;28;01mif\u001b[39;00m \u001b[38;5;28mself\u001b[39m.after \u001b[38;5;129;01mis\u001b[39;00m \u001b[38;5;129;01mnot\u001b[39;00m \u001b[38;5;28;01mNone\u001b[39;00m:\n",
      "\u001b[36mFile \u001b[39m\u001b[32mc:\\Users\\Hyder\\anaconda3\\envs\\langenv\\Lib\\concurrent\\futures\\_base.py:449\u001b[39m, in \u001b[36mFuture.result\u001b[39m\u001b[34m(self, timeout)\u001b[39m\n\u001b[32m    447\u001b[39m     \u001b[38;5;28;01mraise\u001b[39;00m CancelledError()\n\u001b[32m    448\u001b[39m \u001b[38;5;28;01melif\u001b[39;00m \u001b[38;5;28mself\u001b[39m._state == FINISHED:\n\u001b[32m--> \u001b[39m\u001b[32m449\u001b[39m     \u001b[38;5;28;01mreturn\u001b[39;00m \u001b[38;5;28;43mself\u001b[39;49m\u001b[43m.\u001b[49m\u001b[43m__get_result\u001b[49m\u001b[43m(\u001b[49m\u001b[43m)\u001b[49m\n\u001b[32m    451\u001b[39m \u001b[38;5;28mself\u001b[39m._condition.wait(timeout)\n\u001b[32m    453\u001b[39m \u001b[38;5;28;01mif\u001b[39;00m \u001b[38;5;28mself\u001b[39m._state \u001b[38;5;129;01min\u001b[39;00m [CANCELLED, CANCELLED_AND_NOTIFIED]:\n",
      "\u001b[36mFile \u001b[39m\u001b[32mc:\\Users\\Hyder\\anaconda3\\envs\\langenv\\Lib\\concurrent\\futures\\_base.py:401\u001b[39m, in \u001b[36mFuture.__get_result\u001b[39m\u001b[34m(self)\u001b[39m\n\u001b[32m    399\u001b[39m \u001b[38;5;28;01mif\u001b[39;00m \u001b[38;5;28mself\u001b[39m._exception:\n\u001b[32m    400\u001b[39m     \u001b[38;5;28;01mtry\u001b[39;00m:\n\u001b[32m--> \u001b[39m\u001b[32m401\u001b[39m         \u001b[38;5;28;01mraise\u001b[39;00m \u001b[38;5;28mself\u001b[39m._exception\n\u001b[32m    402\u001b[39m     \u001b[38;5;28;01mfinally\u001b[39;00m:\n\u001b[32m    403\u001b[39m         \u001b[38;5;66;03m# Break a reference cycle with the exception in self._exception\u001b[39;00m\n\u001b[32m    404\u001b[39m         \u001b[38;5;28mself\u001b[39m = \u001b[38;5;28;01mNone\u001b[39;00m\n",
      "\u001b[36mFile \u001b[39m\u001b[32mc:\\Users\\Hyder\\anaconda3\\envs\\langenv\\Lib\\site-packages\\tenacity\\__init__.py:480\u001b[39m, in \u001b[36mRetrying.__call__\u001b[39m\u001b[34m(self, fn, *args, **kwargs)\u001b[39m\n\u001b[32m    478\u001b[39m \u001b[38;5;28;01mif\u001b[39;00m \u001b[38;5;28misinstance\u001b[39m(do, DoAttempt):\n\u001b[32m    479\u001b[39m     \u001b[38;5;28;01mtry\u001b[39;00m:\n\u001b[32m--> \u001b[39m\u001b[32m480\u001b[39m         result = \u001b[43mfn\u001b[49m\u001b[43m(\u001b[49m\u001b[43m*\u001b[49m\u001b[43margs\u001b[49m\u001b[43m,\u001b[49m\u001b[43m \u001b[49m\u001b[43m*\u001b[49m\u001b[43m*\u001b[49m\u001b[43mkwargs\u001b[49m\u001b[43m)\u001b[49m\n\u001b[32m    481\u001b[39m     \u001b[38;5;28;01mexcept\u001b[39;00m \u001b[38;5;167;01mBaseException\u001b[39;00m:  \u001b[38;5;66;03m# noqa: B902\u001b[39;00m\n\u001b[32m    482\u001b[39m         retry_state.set_exception(sys.exc_info())  \u001b[38;5;66;03m# type: ignore[arg-type]\u001b[39;00m\n",
      "\u001b[36mFile \u001b[39m\u001b[32mc:\\Users\\Hyder\\anaconda3\\envs\\langenv\\Lib\\site-packages\\langchain_google_genai\\chat_models.py:227\u001b[39m, in \u001b[36m_chat_with_retry.<locals>._chat_with_retry\u001b[39m\u001b[34m(**kwargs)\u001b[39m\n\u001b[32m    224\u001b[39m         \u001b[38;5;28;01mraise\u001b[39;00m \u001b[38;5;167;01mValueError\u001b[39;00m(error_msg)\n\u001b[32m    226\u001b[39m \u001b[38;5;28;01mexcept\u001b[39;00m google.api_core.exceptions.InvalidArgument \u001b[38;5;28;01mas\u001b[39;00m e:\n\u001b[32m--> \u001b[39m\u001b[32m227\u001b[39m     \u001b[38;5;28;01mraise\u001b[39;00m ChatGoogleGenerativeAIError(\n\u001b[32m    228\u001b[39m         \u001b[33mf\u001b[39m\u001b[33m\"\u001b[39m\u001b[33mInvalid argument provided to Gemini: \u001b[39m\u001b[38;5;132;01m{\u001b[39;00me\u001b[38;5;132;01m}\u001b[39;00m\u001b[33m\"\u001b[39m\n\u001b[32m    229\u001b[39m     ) \u001b[38;5;28;01mfrom\u001b[39;00m\u001b[38;5;250m \u001b[39m\u001b[34;01me\u001b[39;00m\n\u001b[32m    230\u001b[39m \u001b[38;5;28;01mexcept\u001b[39;00m google.api_core.exceptions.ResourceExhausted \u001b[38;5;28;01mas\u001b[39;00m e:\n\u001b[32m    231\u001b[39m     \u001b[38;5;66;03m# Handle quota-exceeded error with recommended retry delay\u001b[39;00m\n\u001b[32m    232\u001b[39m     \u001b[38;5;28;01mif\u001b[39;00m \u001b[38;5;28mhasattr\u001b[39m(e, \u001b[33m\"\u001b[39m\u001b[33mretry_after\u001b[39m\u001b[33m\"\u001b[39m) \u001b[38;5;129;01mand\u001b[39;00m e.retry_after < kwargs.get(\n\u001b[32m    233\u001b[39m         \u001b[33m\"\u001b[39m\u001b[33mwait_exponential_max\u001b[39m\u001b[33m\"\u001b[39m, \u001b[32m60.0\u001b[39m\n\u001b[32m    234\u001b[39m     ):\n",
      "\u001b[31mChatGoogleGenerativeAIError\u001b[39m: Invalid argument provided to Gemini: 400 API key expired. Please renew the API key. [reason: \"API_KEY_INVALID\"\ndomain: \"googleapis.com\"\nmetadata {\n  key: \"service\"\n  value: \"generativelanguage.googleapis.com\"\n}\n, locale: \"en-US\"\nmessage: \"API key expired. Please renew the API key.\"\n]"
     ]
    }
   ],
=======
   "execution_count": 40,
   "id": "cc689edd",
   "metadata": {},
   "outputs": [],
>>>>>>> f48c37737ba19688e85a4937acaf64d309f95245
   "source": [
    "story=prompt_refinner({'input_story':\"A boy name Ibad fall in love with a girl named Aisha.\"})\n",
    "features=feature_extractor({\"refined_story\":story})\n",
    "character_mkp=character_makeup({\"refined_story\": story[\"refined_story\"], \"extracted_features\": features[\"extracted_feature\"]})\n",
    "\n"
   ]
  },
  {
   "cell_type": "code",
   "execution_count": 41,
   "id": "9fd6c16f",
   "metadata": {},
   "outputs": [
    {
     "name": "stdout",
     "output_type": "stream",
     "text": [
      "('Ibad saw Aisha across the crowded schoolyard, and his heart *POW!* skipped a '\n",
      " \"beat. [She's...an angel!] He clumsily approached, tripping over his own \"\n",
      " 'feet, \"U-um, Aisha-san...\" Aisha turned, her eyes sparkling like distant '\n",
      " 'stars, but then a rival suitor, Ken, appeared, glaring menacingly. \"Hmph! '\n",
      " 'Get lost, shrimp!\" Ken shoved Ibad, sending him sprawling - \"Gwaa!\" Ibad, '\n",
      " 'fueled by newfound love, felt a surge of power. [For Aisha...I WILL FIGHT!]')\n"
     ]
    }
   ],
   "source": [
    "from pprint import pprint\n",
    "pprint((story['refined_story']))\n"
   ]
  },
  {
   "cell_type": "code",
   "execution_count": 42,
   "id": "8173846c",
   "metadata": {},
   "outputs": [
    {
     "name": "stdout",
     "output_type": "stream",
     "text": [
      "MangaFeatureSchema(main_characters=['Ibad', 'Aisha', 'Ken'], character_descriptions=['Shy, awkward boy in love', 'Girl with sparkling eyes', 'Rival suitor, menacing'], setting='Crowded schoolyard', conflict_or_goal=\"Ibad tries to win Aisha's heart but faces rivalry.\", important_objects=[], mood_and_tone=['romantic', 'comedic', 'dramatic'], key_sound_effects_and_emotions=['POW!', 'Gwaa!', 'love', 'menacing'])\n"
     ]
    }
   ],
   "source": [
    "\n",
    "pprint((features['extracted_feature']))"
   ]
  },
  {
   "cell_type": "code",
   "execution_count": 43,
   "id": "1b1ae588",
   "metadata": {},
   "outputs": [
    {
     "name": "stdout",
     "output_type": "stream",
     "text": [
      "CharacterList(characters=[CharacterProfile(name_or_role='Ibad', canonical_name='Ibad', age_range='Teenager (15-17)', gender_presentation='Male', body_type='Slim', height='Average', face='Round face, slightly nervous expression, small nose, thin lips', hair='Short, messy black hair', eyes='Brown, wide, and expressive', clothing='School uniform: slightly oversized blazer, untucked shirt, standard pants, sneakers', accessories=[], color_palette=['Black', 'White', 'Gray', 'Brown'], notable_marks=[], important_objects=[], signature_poses=['Tripping', 'Blushing while talking to Aisha', 'Falling after being shoved', 'Clenching fists with determination'], default_expressions=['Nervous', 'Blushing', 'Determined'], voice_short='High-pitched and slightly shaky', drawing_instructions='Use thin lines for nervousness, emphasize large, expressive eyes', visual_reference_prompt='A shy teenage boy with messy black hair and wide brown eyes. He wears a school uniform and looks flustered.', consistency_token='ibad_001'), CharacterProfile(name_or_role='Aisha', canonical_name='Aisha', age_range='Teenager (15-17)', gender_presentation='Female', body_type='Slender', height='Average', face='Oval face, gentle smile, delicate features', hair='Long, flowing black hair with subtle highlights', eyes='Large, sparkling black eyes that resemble stars', clothing='School uniform: neatly fitted blazer, pleated skirt, knee-high socks, polished shoes', accessories=['Small hair clip'], color_palette=['Black', 'White', 'Gray', 'Pink'], notable_marks=[], important_objects=[], signature_poses=['Smiling gently', 'Looking up with sparkling eyes', 'Standing gracefully', 'Slight head tilt'], default_expressions=['Smiling', 'Curious', 'Gentle'], voice_short='Soft and melodic', drawing_instructions='Use delicate lines and soft shading to emphasize her beauty. Focus on making her eyes sparkle.', visual_reference_prompt='A beautiful teenage girl with long black hair and sparkling black eyes. She wears a school uniform and has a gentle smile.', consistency_token='aisha_002'), CharacterProfile(name_or_role='Ken', canonical_name='Ken', age_range='Teenager (16-18)', gender_presentation='Male', body_type='Muscular', height='Tall', face='Square face, stern expression, sharp jawline', hair='Short, spiky blonde hair', eyes='Sharp, piercing blue eyes', clothing='School uniform: blazer worn open, shirt unbuttoned, tough-looking boots', accessories=['None'], color_palette=['Black', 'White', 'Blue', 'Red'], notable_marks=[], important_objects=[], signature_poses=['Glaring menacingly', 'Shoving Ibad', 'Crossing arms', 'Smirking confidently'], default_expressions=['Angry', 'Smirking', 'Condescending'], voice_short='Deep and intimidating', drawing_instructions='Use thick lines to emphasize his muscular build. Focus on making him look intimidating.', visual_reference_prompt='A muscular teenage boy with short spiky blonde hair and piercing blue eyes. He wears a school uniform and has a menacing glare.', consistency_token='ken_003')])\n"
     ]
    }
   ],
   "source": [
    "\n",
    "pprint((character_mkp['character_makeup']))"
   ]
  },
  {
   "cell_type": "code",
   "execution_count": 44,
   "id": "47fd7991",
   "metadata": {},
   "outputs": [
    {
     "data": {
      "text/plain": [
       "{'manga_page': MangaPage(page_number=1, panels=[Director_Panel(panel_number=1, scene_description='Wide shot of a crowded schoolyard. Ibad sees Aisha across the yard. Heart effect around Ibad.', characters_present=['Ibad', 'Aisha'], actions=['Sees', 'Blushing'], dialogues=[], inner_thoughts=[\"She's...an angel!\"], sound_effects=['POW!']), Director_Panel(panel_number=2, scene_description='Close-up on Ibad tripping as he approaches Aisha. Exaggerated comical fall.', characters_present=['Ibad', 'Aisha'], actions=['Tripping', 'Falling'], dialogues=['Ibad: U-um, Aisha-san...'], inner_thoughts=[], sound_effects=['WHOOSH']), Director_Panel(panel_number=3, scene_description='Medium shot. Aisha turns, eyes sparkling. Ken appears behind her, glaring at Ibad.', characters_present=['Aisha', 'Ken', 'Ibad'], actions=['Turns', 'Sparkling eyes', 'Glaring'], dialogues=['Aisha: !?'], inner_thoughts=[], sound_effects=[]), Director_Panel(panel_number=4, scene_description='Close-up on Ken shoving Ibad. Ibad flying backwards.', characters_present=['Ken', 'Ibad'], actions=['Shoving', 'Flying'], dialogues=['Ken: Hmph! Get lost, shrimp!'], inner_thoughts=['For Aisha...I WILL FIGHT!'], sound_effects=['Gwaa!'])])}"
      ]
     },
     "execution_count": 44,
     "metadata": {},
     "output_type": "execute_result"
    }
   ],
   "source": [
    "manga_director({\n",
    "    \"refined_story\": story[\"refined_story\"], \n",
    "    \"extracted_feature\": features[\"extracted_feature\"],\n",
    "    \"character_makeup\": character_mkp[\"character_makeup\"]\n",
    "})"
   ]
  },
  {
   "cell_type": "code",
   "execution_count": null,
   "id": "99769c1b",
   "metadata": {},
   "outputs": [],
   "source": []
  }
 ],
 "metadata": {
  "kernelspec": {
   "display_name": "global",
   "language": "python",
   "name": "python3"
  },
  "language_info": {
   "codemirror_mode": {
    "name": "ipython",
    "version": 3
   },
   "file_extension": ".py",
   "mimetype": "text/x-python",
   "name": "python",
   "nbconvert_exporter": "python",
   "pygments_lexer": "ipython3",
   "version": "3.9.20"
  }
 },
 "nbformat": 4,
 "nbformat_minor": 5
}
