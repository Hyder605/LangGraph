{
 "cells": [
  {
   "cell_type": "markdown",
   "id": "a88407ad",
   "metadata": {},
   "source": [
    "## 🔑 Key Benefits of Persistence\n",
    "\n",
    "| Benefit                | Description                                                        |\n",
    "|------------------------|--------------------------------------------------------------------|\n",
    "| ✅ Resumable workflows | Can pause and continue long-running tasks                          |\n",
    "| ✅ Short  term memory(Conversation memory) | Agents remember prior interactions (using `thread_id`)             |\n",
    "| ✅ Crash recovery(Fault tolerance)      | Recover from failures without restarting from scratch              |\n",
    "| ✅ Debugging(TIME TRAVEL)           | You can inspect saved intermediate states                          |\n",
    "| ✅ Scalability         | Supports distributed or long-running applications                  |\n",
    "| ✅ Multi-turn agents   | Necessary for chatbots, tools, and planning agents                 |\n",
    "| ✅ Experiment reproducibility | Run the same thread again with saved state               |\n"
   ]
  },
  {
   "cell_type": "code",
   "execution_count": 1,
   "id": "d18f5dd9",
   "metadata": {},
   "outputs": [],
   "source": [
    "from langgraph.graph import StateGraph, START, END\n",
    "from langchain_google_genai import ChatGoogleGenerativeAI\n",
    "from typing import TypedDict,Annotated,Literal\n",
    "from dotenv import load_dotenv, find_dotenv\n",
    "from pydantic import BaseModel, Field\n",
    "import operator\n",
    "from langchain_core.messages import SystemMessage,HumanMessage,BaseMessage\n",
    "from langgraph.checkpoint.memory import MemorySaver,InMemorySaver\n",
    "from langgraph.graph.message import add_messages\n"
   ]
  },
  {
   "cell_type": "markdown",
   "id": "2f7adad0",
   "metadata": {},
   "source": [
    "<b>InMemorySaver</b> is a memory-based checkpoint saver provided by langgraph — it stores all the intermediate state in RAM (i.e., system memory), not on disk or a database.\n",
    "\n",
    "\n",
    "🚫 Limitation <br>\n",
    "Since InMemorySaver stores everything in RAM:\n",
    "\n",
    "❌ Data is lost when the program ends\n",
    "\n",
    "❌ Not scalable for long-term or production use\n",
    "\n",
    "✅ Great for testing, debugging, or short runs\n"
   ]
  },
  {
   "cell_type": "code",
   "execution_count": 2,
   "id": "a87ad04e",
   "metadata": {},
   "outputs": [],
   "source": [
    "_: bool = load_dotenv(find_dotenv())\n",
    "\n",
    "model = ChatGoogleGenerativeAI(model=\"gemini-2.0-flash-exp\")"
   ]
  },
  {
   "cell_type": "code",
   "execution_count": 3,
   "id": "81f1eff8",
   "metadata": {},
   "outputs": [],
   "source": [
    "##Class State\n",
    "\n",
    "class JokeState(TypedDict):\n",
    "    topic:str\n",
    "    joke:str \n",
    "    exp:str "
   ]
  },
  {
   "cell_type": "code",
   "execution_count": 4,
   "id": "d950cefa",
   "metadata": {},
   "outputs": [],
   "source": [
    "def gen_joke(state:JokeState):\n",
    "    topic=state['topic']\n",
    "\n",
    "    prompt=f\"Write a joke on the topic {topic}\"\n",
    "    response=model.invoke(prompt).content\n",
    "\n",
    "    return {'joke':response}\n",
    "\n",
    "def gen_exp(state:JokeState):\n",
    "\n",
    "    joke=state['joke']\n",
    "    prompt=f\"Write an explanation of this JOke {joke}\"\n",
    "\n",
    "    response=model.invoke(prompt).content\n",
    "\n",
    "    return {'exp':response}\n",
    "\n"
   ]
  },
  {
   "cell_type": "code",
   "execution_count": 5,
   "id": "dd6e23df",
   "metadata": {},
   "outputs": [],
   "source": [
    "graph=StateGraph(JokeState)\n",
    "\n",
    "graph.add_node(\"gen_joke\",gen_joke)\n",
    "graph.add_node(\"gen_exp\",gen_exp)\n",
    "\n",
    "graph.add_edge(START,'gen_joke')\n",
    "graph.add_edge(\"gen_joke\",\"gen_exp\")\n",
    "graph.add_edge(\"gen_exp\",END)\n",
    "\n",
    "checkpointer=InMemorySaver()\n",
    "\n",
    "workflow=graph.compile(checkpointer=checkpointer)"
   ]
  },
  {
   "cell_type": "code",
   "execution_count": 6,
   "id": "27a0e62d",
   "metadata": {},
   "outputs": [
    {
     "data": {
      "image/png": "[encoded data removed]",
      "text/plain": [
       "<IPython.core.display.Image object>"
      ]
     },
     "execution_count": 6,
     "metadata": {},
     "output_type": "execute_result"
    }
   ],
   "source": [
    "from IPython.display import Image\n",
    "Image(workflow.get_graph().draw_mermaid_png())"
   ]
  },
  {
   "cell_type": "markdown",
   "id": "5f0a4bba",
   "metadata": {},
   "source": [
    "config1 tells LangGraph:\n",
    "\n",
    "“This run belongs to thread ID = '1'.”"
   ]
  },
  {
   "cell_type": "code",
   "execution_count": 7,
   "id": "46e51493",
   "metadata": {},
   "outputs": [
    {
     "data": {
      "text/plain": [
       "{'topic': 'water',\n",
       " 'joke': 'Why did the water break up with the ice?\\n\\nBecause it felt like their relationship was going nowhere!',\n",
       " 'exp': 'Okay, here\\'s the breakdown of the joke:\\n\\n*   **The Setup:** \"Why did the water break up with the ice?\" This sets up a scenario where we\\'re anthropomorphizing water and ice, giving them a relationship.\\n\\n*   **The Punchline:** \"Because it felt like their relationship was going nowhere!\"\\n\\n*   **The Humor:** The humor lies in the double meaning of \"going nowhere.\"\\n\\n    *   **Literal Meaning:** Ice is stationary. It doesn\\'t move unless it\\'s melted or pushed. So, from the water\\'s perspective, the relationship is stagnant and not progressing.\\n\\n    *   **Figurative Meaning:** \"Going nowhere\" is a common idiom to describe a relationship that is not developing or heading towards a positive future.\\n\\nThe joke works because it cleverly combines the literal properties of water and ice with a common expression about relationships. The contrast between the physical reality and the emotional sentiment is what makes it funny.'}"
      ]
     },
     "execution_count": 7,
     "metadata": {},
     "output_type": "execute_result"
    }
   ],
   "source": [
    "config1={\"configurable\":{\"thread_id\":\"1\"}}\n",
    "workflow.invoke({'topic':'water'},config=config1)"
   ]
  },
  {
   "cell_type": "code",
   "execution_count": 8,
   "id": "f53055db",
   "metadata": {},
   "outputs": [
    {
     "data": {
      "text/plain": [
       "StateSnapshot(values={'topic': 'water', 'joke': 'Why did the water break up with the ice?\\n\\nBecause it felt like their relationship was going nowhere!', 'exp': 'Okay, here\\'s the breakdown of the joke:\\n\\n*   **The Setup:** \"Why did the water break up with the ice?\" This sets up a scenario where we\\'re anthropomorphizing water and ice, giving them a relationship.\\n\\n*   **The Punchline:** \"Because it felt like their relationship was going nowhere!\"\\n\\n*   **The Humor:** The humor lies in the double meaning of \"going nowhere.\"\\n\\n    *   **Literal Meaning:** Ice is stationary. It doesn\\'t move unless it\\'s melted or pushed. So, from the water\\'s perspective, the relationship is stagnant and not progressing.\\n\\n    *   **Figurative Meaning:** \"Going nowhere\" is a common idiom to describe a relationship that is not developing or heading towards a positive future.\\n\\nThe joke works because it cleverly combines the literal properties of water and ice with a common expression about relationships. The contrast between the physical reality and the emotional sentiment is what makes it funny.'}, next=(), config={'configurable': {'thread_id': '1', 'checkpoint_ns': '', 'checkpoint_id': '1f07044c-1c72-6ab3-8002-7466552e1c39'}}, metadata={'source': 'loop', 'step': 2, 'parents': {}, 'thread_id': '1'}, created_at='2025-08-03T08:35:05.962769+00:00', parent_config={'configurable': {'thread_id': '1', 'checkpoint_ns': '', 'checkpoint_id': '1f07044c-0d24-6a07-8001-84f20e25d7f8'}}, tasks=(), interrupts=())"
      ]
     },
     "execution_count": 8,
     "metadata": {},
     "output_type": "execute_result"
    }
   ],
   "source": [
    "###Final state values\n",
    "workflow.get_state(config1)"
   ]
  },
  {
   "cell_type": "code",
   "execution_count": 9,
   "id": "e91c10dd",
   "metadata": {},
   "outputs": [
    {
     "data": {
      "text/plain": [
       "[StateSnapshot(values={'topic': 'water', 'joke': 'Why did the water break up with the ice?\\n\\nBecause it felt like their relationship was going nowhere!', 'exp': 'Okay, here\\'s the breakdown of the joke:\\n\\n*   **The Setup:** \"Why did the water break up with the ice?\" This sets up a scenario where we\\'re anthropomorphizing water and ice, giving them a relationship.\\n\\n*   **The Punchline:** \"Because it felt like their relationship was going nowhere!\"\\n\\n*   **The Humor:** The humor lies in the double meaning of \"going nowhere.\"\\n\\n    *   **Literal Meaning:** Ice is stationary. It doesn\\'t move unless it\\'s melted or pushed. So, from the water\\'s perspective, the relationship is stagnant and not progressing.\\n\\n    *   **Figurative Meaning:** \"Going nowhere\" is a common idiom to describe a relationship that is not developing or heading towards a positive future.\\n\\nThe joke works because it cleverly combines the literal properties of water and ice with a common expression about relationships. The contrast between the physical reality and the emotional sentiment is what makes it funny.'}, next=(), config={'configurable': {'thread_id': '1', 'checkpoint_ns': '', 'checkpoint_id': '1f07044c-1c72-6ab3-8002-7466552e1c39'}}, metadata={'source': 'loop', 'step': 2, 'parents': {}, 'thread_id': '1'}, created_at='2025-08-03T08:35:05.962769+00:00', parent_config={'configurable': {'thread_id': '1', 'checkpoint_ns': '', 'checkpoint_id': '1f07044c-0d24-6a07-8001-84f20e25d7f8'}}, tasks=(), interrupts=()),\n",
       " StateSnapshot(values={'topic': 'water', 'joke': 'Why did the water break up with the ice?\\n\\nBecause it felt like their relationship was going nowhere!'}, next=('gen_exp',), config={'configurable': {'thread_id': '1', 'checkpoint_ns': '', 'checkpoint_id': '1f07044c-0d24-6a07-8001-84f20e25d7f8'}}, metadata={'source': 'loop', 'step': 1, 'parents': {}, 'thread_id': '1'}, created_at='2025-08-03T08:35:04.357939+00:00', parent_config={'configurable': {'thread_id': '1', 'checkpoint_ns': '', 'checkpoint_id': '1f07044b-fe0d-68de-8000-145123022ff3'}}, tasks=(PregelTask(id='10c25556-0d44-3fcd-f642-206b85f503a0', name='gen_exp', path=('__pregel_pull', 'gen_exp'), error=None, interrupts=(), state=None, result={'exp': 'Okay, here\\'s the breakdown of the joke:\\n\\n*   **The Setup:** \"Why did the water break up with the ice?\" This sets up a scenario where we\\'re anthropomorphizing water and ice, giving them a relationship.\\n\\n*   **The Punchline:** \"Because it felt like their relationship was going nowhere!\"\\n\\n*   **The Humor:** The humor lies in the double meaning of \"going nowhere.\"\\n\\n    *   **Literal Meaning:** Ice is stationary. It doesn\\'t move unless it\\'s melted or pushed. So, from the water\\'s perspective, the relationship is stagnant and not progressing.\\n\\n    *   **Figurative Meaning:** \"Going nowhere\" is a common idiom to describe a relationship that is not developing or heading towards a positive future.\\n\\nThe joke works because it cleverly combines the literal properties of water and ice with a common expression about relationships. The contrast between the physical reality and the emotional sentiment is what makes it funny.'}),), interrupts=()),\n",
       " StateSnapshot(values={'topic': 'water'}, next=('gen_joke',), config={'configurable': {'thread_id': '1', 'checkpoint_ns': '', 'checkpoint_id': '1f07044b-fe0d-68de-8000-145123022ff3'}}, metadata={'source': 'loop', 'step': 0, 'parents': {}, 'thread_id': '1'}, created_at='2025-08-03T08:35:02.775625+00:00', parent_config={'configurable': {'thread_id': '1', 'checkpoint_ns': '', 'checkpoint_id': '1f07044b-fe09-64b5-bfff-f6ecc850a348'}}, tasks=(PregelTask(id='f28b8583-180f-9e44-62cd-4b01e8cd1cae', name='gen_joke', path=('__pregel_pull', 'gen_joke'), error=None, interrupts=(), state=None, result={'joke': 'Why did the water break up with the ice?\\n\\nBecause it felt like their relationship was going nowhere!'}),), interrupts=()),\n",
       " StateSnapshot(values={}, next=('__start__',), config={'configurable': {'thread_id': '1', 'checkpoint_ns': '', 'checkpoint_id': '1f07044b-fe09-64b5-bfff-f6ecc850a348'}}, metadata={'source': 'input', 'step': -1, 'parents': {}, 'thread_id': '1'}, created_at='2025-08-03T08:35:02.773880+00:00', parent_config=None, tasks=(PregelTask(id='f83a0f52-8d1a-5d34-1075-fa1dcc8dac1a', name='__start__', path=('__pregel_pull', '__start__'), error=None, interrupts=(), state=None, result={'topic': 'water'}),), interrupts=())]"
      ]
     },
     "execution_count": 9,
     "metadata": {},
     "output_type": "execute_result"
    }
   ],
   "source": [
    "###Intermediate State values(Output-->down to upward)\n",
    "list(workflow.get_state_history(config1))"
   ]
  },
  {
   "cell_type": "code",
   "execution_count": 10,
   "id": "6b65251a",
   "metadata": {},
   "outputs": [
    {
     "data": {
      "text/plain": [
       "{'topic': 'school',\n",
       " 'joke': 'Why did the bicycle fall over in school?\\n\\nBecause it was two tired!',\n",
       " 'exp': 'The joke plays on the double meaning of the word \"tired\".\\n\\n*   **Literal meaning:** Bicycles have two tires. The joke sets up the expectation that the bicycle has a physical problem, perhaps a flat tire or broken part.\\n*   **Figurative meaning:** \"Tired\" can also mean exhausted or weary. The joke uses this meaning as the punchline. The bicycle fell over because it was \"too tired\" (exhausted) to stay upright.\\n\\nIt\\'s a pun, using the similar sound of two different meanings of the same word for a humorous effect.'}"
      ]
     },
     "execution_count": 10,
     "metadata": {},
     "output_type": "execute_result"
    }
   ],
   "source": [
    "config2={\"configurable\":{\"thread_id\":\"2\"}}\n",
    "workflow.invoke({\"topic\":'school'},config=config2)"
   ]
  },
  {
   "cell_type": "code",
   "execution_count": 11,
   "id": "3741383e",
   "metadata": {},
   "outputs": [
    {
     "data": {
      "text/plain": [
       "StateSnapshot(values={'topic': 'school', 'joke': 'Why did the bicycle fall over in school?\\n\\nBecause it was two tired!', 'exp': 'The joke plays on the double meaning of the word \"tired\".\\n\\n*   **Literal meaning:** Bicycles have two tires. The joke sets up the expectation that the bicycle has a physical problem, perhaps a flat tire or broken part.\\n*   **Figurative meaning:** \"Tired\" can also mean exhausted or weary. The joke uses this meaning as the punchline. The bicycle fell over because it was \"too tired\" (exhausted) to stay upright.\\n\\nIt\\'s a pun, using the similar sound of two different meanings of the same word for a humorous effect.'}, next=(), config={'configurable': {'thread_id': '2', 'checkpoint_ns': '', 'checkpoint_id': '1f07044c-35bd-6578-8002-f6ad5f4ac62b'}}, metadata={'source': 'loop', 'step': 2, 'parents': {}, 'thread_id': '2'}, created_at='2025-08-03T08:35:08.614796+00:00', parent_config={'configurable': {'thread_id': '2', 'checkpoint_ns': '', 'checkpoint_id': '1f07044c-2317-65b2-8001-c780cede648e'}}, tasks=(), interrupts=())"
      ]
     },
     "execution_count": 11,
     "metadata": {},
     "output_type": "execute_result"
    }
   ],
   "source": [
    "workflow.get_state(config2)"
   ]
  },
  {
   "cell_type": "markdown",
   "id": "8ac48bcc",
   "metadata": {},
   "source": [
    "### Time Travel"
   ]
  },
  {
   "cell_type": "code",
   "execution_count": 14,
   "id": "26ab482d",
   "metadata": {},
   "outputs": [
    {
     "data": {
      "text/plain": [
       "StateSnapshot(values={'topic': 'water'}, next=('gen_joke',), config={'configurable': {'thread_id': '1', 'checkpoint_id': '1f07044b-fe0d-68de-8000-145123022ff3'}}, metadata={'source': 'loop', 'step': 0, 'parents': {}, 'thread_id': '1'}, created_at='2025-08-03T08:35:02.775625+00:00', parent_config={'configurable': {'thread_id': '1', 'checkpoint_ns': '', 'checkpoint_id': '1f07044b-fe09-64b5-bfff-f6ecc850a348'}}, tasks=(PregelTask(id='f28b8583-180f-9e44-62cd-4b01e8cd1cae', name='gen_joke', path=('__pregel_pull', 'gen_joke'), error=None, interrupts=(), state=None, result={'joke': 'Why did the water break up with the ice?\\n\\nBecause it felt like their relationship was going nowhere!'}),), interrupts=())"
      ]
     },
     "execution_count": 14,
     "metadata": {},
     "output_type": "execute_result"
    }
   ],
   "source": [
    "workflow.get_state({\"configurable\": {\"thread_id\": \"1\", \"checkpoint_id\": \"1f07044b-fe0d-68de-8000-145123022ff3\"}})\n"
   ]
  },
  {
   "cell_type": "code",
   "execution_count": 15,
   "id": "ec971275",
   "metadata": {},
   "outputs": [
    {
     "data": {
      "text/plain": [
       "{'topic': 'water',\n",
       " 'joke': 'Why did the water get kicked out of the party?\\n\\nBecause it was being a little too fluid with its dance moves!',\n",
       " 'exp': 'The joke relies on a pun, playing on the double meaning of the word \"fluid\". Here\\'s the breakdown:\\n\\n* **Literal Meaning:** Water is literally a fluid, meaning it can flow and change shape easily.\\n* **Figurative Meaning:** \"Fluid\" can also describe someone who is very loose, adaptable, and perhaps a bit wild or uncontrolled in their movements, especially when dancing.\\n\\nThe joke implies that the water (personified at the party) was dancing in a way that was too free, wild, and potentially disruptive. Because water is *literally* fluid, the joke connects the literal and figurative meanings to create a humorous and unexpected explanation for why it was kicked out.'}"
      ]
     },
     "execution_count": 15,
     "metadata": {},
     "output_type": "execute_result"
    }
   ],
   "source": [
    "workflow.invoke(None, {\"configurable\": {\"thread_id\": \"1\", \"checkpoint_id\": \"1f07044b-fe0d-68de-8000-145123022ff3\"}})\n"
   ]
  },
  {
   "cell_type": "code",
   "execution_count": 16,
   "id": "97e01a7d",
   "metadata": {},
   "outputs": [
    {
     "data": {
      "text/plain": [
       "[StateSnapshot(values={'topic': 'water', 'joke': 'Why did the water get kicked out of the party?\\n\\nBecause it was being a little too fluid with its dance moves!', 'exp': 'The joke relies on a pun, playing on the double meaning of the word \"fluid\". Here\\'s the breakdown:\\n\\n* **Literal Meaning:** Water is literally a fluid, meaning it can flow and change shape easily.\\n* **Figurative Meaning:** \"Fluid\" can also describe someone who is very loose, adaptable, and perhaps a bit wild or uncontrolled in their movements, especially when dancing.\\n\\nThe joke implies that the water (personified at the party) was dancing in a way that was too free, wild, and potentially disruptive. Because water is *literally* fluid, the joke connects the literal and figurative meanings to create a humorous and unexpected explanation for why it was kicked out.'}, next=(), config={'configurable': {'thread_id': '1', 'checkpoint_ns': '', 'checkpoint_id': '1f07044f-6dc0-6899-8002-42e0e96479f5'}}, metadata={'source': 'loop', 'step': 2, 'parents': {}, 'thread_id': '1'}, created_at='2025-08-03T08:36:35.018767+00:00', parent_config={'configurable': {'thread_id': '1', 'checkpoint_ns': '', 'checkpoint_id': '1f07044f-613e-6f05-8001-7465cc94c89d'}}, tasks=(), interrupts=()),\n",
       " StateSnapshot(values={'topic': 'water', 'joke': 'Why did the water get kicked out of the party?\\n\\nBecause it was being a little too fluid with its dance moves!'}, next=('gen_exp',), config={'configurable': {'thread_id': '1', 'checkpoint_ns': '', 'checkpoint_id': '1f07044f-613e-6f05-8001-7465cc94c89d'}}, metadata={'source': 'loop', 'step': 1, 'parents': {}, 'thread_id': '1'}, created_at='2025-08-03T08:36:33.707392+00:00', parent_config={'configurable': {'thread_id': '1', 'checkpoint_ns': '', 'checkpoint_id': '1f07044b-fe0d-68de-8000-145123022ff3'}}, tasks=(PregelTask(id='e55f3eeb-5c63-3d05-97a4-f858a9fcb3e3', name='gen_exp', path=('__pregel_pull', 'gen_exp'), error=None, interrupts=(), state=None, result={'exp': 'The joke relies on a pun, playing on the double meaning of the word \"fluid\". Here\\'s the breakdown:\\n\\n* **Literal Meaning:** Water is literally a fluid, meaning it can flow and change shape easily.\\n* **Figurative Meaning:** \"Fluid\" can also describe someone who is very loose, adaptable, and perhaps a bit wild or uncontrolled in their movements, especially when dancing.\\n\\nThe joke implies that the water (personified at the party) was dancing in a way that was too free, wild, and potentially disruptive. Because water is *literally* fluid, the joke connects the literal and figurative meanings to create a humorous and unexpected explanation for why it was kicked out.'}),), interrupts=()),\n",
       " StateSnapshot(values={'topic': 'water', 'joke': 'Why did the water break up with the ice?\\n\\nBecause it felt like their relationship was going nowhere!', 'exp': 'Okay, here\\'s the breakdown of the joke:\\n\\n*   **The Setup:** \"Why did the water break up with the ice?\" This sets up a scenario where we\\'re anthropomorphizing water and ice, giving them a relationship.\\n\\n*   **The Punchline:** \"Because it felt like their relationship was going nowhere!\"\\n\\n*   **The Humor:** The humor lies in the double meaning of \"going nowhere.\"\\n\\n    *   **Literal Meaning:** Ice is stationary. It doesn\\'t move unless it\\'s melted or pushed. So, from the water\\'s perspective, the relationship is stagnant and not progressing.\\n\\n    *   **Figurative Meaning:** \"Going nowhere\" is a common idiom to describe a relationship that is not developing or heading towards a positive future.\\n\\nThe joke works because it cleverly combines the literal properties of water and ice with a common expression about relationships. The contrast between the physical reality and the emotional sentiment is what makes it funny.'}, next=(), config={'configurable': {'thread_id': '1', 'checkpoint_ns': '', 'checkpoint_id': '1f07044c-1c72-6ab3-8002-7466552e1c39'}}, metadata={'source': 'loop', 'step': 2, 'parents': {}, 'thread_id': '1'}, created_at='2025-08-03T08:35:05.962769+00:00', parent_config={'configurable': {'thread_id': '1', 'checkpoint_ns': '', 'checkpoint_id': '1f07044c-0d24-6a07-8001-84f20e25d7f8'}}, tasks=(), interrupts=()),\n",
       " StateSnapshot(values={'topic': 'water', 'joke': 'Why did the water break up with the ice?\\n\\nBecause it felt like their relationship was going nowhere!'}, next=('gen_exp',), config={'configurable': {'thread_id': '1', 'checkpoint_ns': '', 'checkpoint_id': '1f07044c-0d24-6a07-8001-84f20e25d7f8'}}, metadata={'source': 'loop', 'step': 1, 'parents': {}, 'thread_id': '1'}, created_at='2025-08-03T08:35:04.357939+00:00', parent_config={'configurable': {'thread_id': '1', 'checkpoint_ns': '', 'checkpoint_id': '1f07044b-fe0d-68de-8000-145123022ff3'}}, tasks=(PregelTask(id='10c25556-0d44-3fcd-f642-206b85f503a0', name='gen_exp', path=('__pregel_pull', 'gen_exp'), error=None, interrupts=(), state=None, result={'exp': 'Okay, here\\'s the breakdown of the joke:\\n\\n*   **The Setup:** \"Why did the water break up with the ice?\" This sets up a scenario where we\\'re anthropomorphizing water and ice, giving them a relationship.\\n\\n*   **The Punchline:** \"Because it felt like their relationship was going nowhere!\"\\n\\n*   **The Humor:** The humor lies in the double meaning of \"going nowhere.\"\\n\\n    *   **Literal Meaning:** Ice is stationary. It doesn\\'t move unless it\\'s melted or pushed. So, from the water\\'s perspective, the relationship is stagnant and not progressing.\\n\\n    *   **Figurative Meaning:** \"Going nowhere\" is a common idiom to describe a relationship that is not developing or heading towards a positive future.\\n\\nThe joke works because it cleverly combines the literal properties of water and ice with a common expression about relationships. The contrast between the physical reality and the emotional sentiment is what makes it funny.'}),), interrupts=()),\n",
       " StateSnapshot(values={'topic': 'water'}, next=('gen_joke',), config={'configurable': {'thread_id': '1', 'checkpoint_ns': '', 'checkpoint_id': '1f07044b-fe0d-68de-8000-145123022ff3'}}, metadata={'source': 'loop', 'step': 0, 'parents': {}, 'thread_id': '1'}, created_at='2025-08-03T08:35:02.775625+00:00', parent_config={'configurable': {'thread_id': '1', 'checkpoint_ns': '', 'checkpoint_id': '1f07044b-fe09-64b5-bfff-f6ecc850a348'}}, tasks=(PregelTask(id='f28b8583-180f-9e44-62cd-4b01e8cd1cae', name='gen_joke', path=('__pregel_pull', 'gen_joke'), error=None, interrupts=(), state=None, result={'joke': 'Why did the water break up with the ice?\\n\\nBecause it felt like their relationship was going nowhere!'}),), interrupts=()),\n",
       " StateSnapshot(values={}, next=('__start__',), config={'configurable': {'thread_id': '1', 'checkpoint_ns': '', 'checkpoint_id': '1f07044b-fe09-64b5-bfff-f6ecc850a348'}}, metadata={'source': 'input', 'step': -1, 'parents': {}, 'thread_id': '1'}, created_at='2025-08-03T08:35:02.773880+00:00', parent_config=None, tasks=(PregelTask(id='f83a0f52-8d1a-5d34-1075-fa1dcc8dac1a', name='__start__', path=('__pregel_pull', '__start__'), error=None, interrupts=(), state=None, result={'topic': 'water'}),), interrupts=())]"
      ]
     },
     "execution_count": 16,
     "metadata": {},
     "output_type": "execute_result"
    }
   ],
   "source": [
    "list(workflow.get_state_history(config1))\n"
   ]
  },
  {
   "cell_type": "markdown",
   "id": "75b9bdc3",
   "metadata": {},
   "source": [
    "\n",
    "Updating State"
   ]
  },
  {
   "cell_type": "code",
   "execution_count": 17,
   "id": "aff612a5",
   "metadata": {},
   "outputs": [
    {
     "data": {
      "text/plain": [
       "{'configurable': {'thread_id': '1',\n",
       "  'checkpoint_ns': '',\n",
       "  'checkpoint_id': '1f07044f-fc4a-661f-8001-82450a4d9c2c'}}"
      ]
     },
     "execution_count": 17,
     "metadata": {},
     "output_type": "execute_result"
    }
   ],
   "source": [
    "workflow.update_state({\"configurable\": {\"thread_id\": \"1\", \"checkpoint_id\": \"1f07044b-fe0d-68de-8000-145123022ff3\", \"checkpoint_ns\": \"\"}}, {'topic':'School'})\n",
    "\n"
   ]
  },
  {
   "cell_type": "code",
   "execution_count": 18,
   "id": "09b896d7",
   "metadata": {},
   "outputs": [
    {
     "data": {
      "text/plain": [
       "[StateSnapshot(values={'topic': 'School'}, next=('gen_joke',), config={'configurable': {'thread_id': '1', 'checkpoint_ns': '', 'checkpoint_id': '1f07044f-fc4a-661f-8001-82450a4d9c2c'}}, metadata={'source': 'update', 'step': 1, 'parents': {}, 'thread_id': '1'}, created_at='2025-08-03T08:36:49.965007+00:00', parent_config={'configurable': {'thread_id': '1', 'checkpoint_ns': '', 'checkpoint_id': '1f07044b-fe0d-68de-8000-145123022ff3'}}, tasks=(PregelTask(id='a08d75c3-34bc-ade0-629d-c1552c38c4e7', name='gen_joke', path=('__pregel_pull', 'gen_joke'), error=None, interrupts=(), state=None, result=None),), interrupts=()),\n",
       " StateSnapshot(values={'topic': 'water', 'joke': 'Why did the water get kicked out of the party?\\n\\nBecause it was being a little too fluid with its dance moves!', 'exp': 'The joke relies on a pun, playing on the double meaning of the word \"fluid\". Here\\'s the breakdown:\\n\\n* **Literal Meaning:** Water is literally a fluid, meaning it can flow and change shape easily.\\n* **Figurative Meaning:** \"Fluid\" can also describe someone who is very loose, adaptable, and perhaps a bit wild or uncontrolled in their movements, especially when dancing.\\n\\nThe joke implies that the water (personified at the party) was dancing in a way that was too free, wild, and potentially disruptive. Because water is *literally* fluid, the joke connects the literal and figurative meanings to create a humorous and unexpected explanation for why it was kicked out.'}, next=(), config={'configurable': {'thread_id': '1', 'checkpoint_ns': '', 'checkpoint_id': '1f07044f-6dc0-6899-8002-42e0e96479f5'}}, metadata={'source': 'loop', 'step': 2, 'parents': {}, 'thread_id': '1'}, created_at='2025-08-03T08:36:35.018767+00:00', parent_config={'configurable': {'thread_id': '1', 'checkpoint_ns': '', 'checkpoint_id': '1f07044f-613e-6f05-8001-7465cc94c89d'}}, tasks=(), interrupts=()),\n",
       " StateSnapshot(values={'topic': 'water', 'joke': 'Why did the water get kicked out of the party?\\n\\nBecause it was being a little too fluid with its dance moves!'}, next=('gen_exp',), config={'configurable': {'thread_id': '1', 'checkpoint_ns': '', 'checkpoint_id': '1f07044f-613e-6f05-8001-7465cc94c89d'}}, metadata={'source': 'loop', 'step': 1, 'parents': {}, 'thread_id': '1'}, created_at='2025-08-03T08:36:33.707392+00:00', parent_config={'configurable': {'thread_id': '1', 'checkpoint_ns': '', 'checkpoint_id': '1f07044b-fe0d-68de-8000-145123022ff3'}}, tasks=(PregelTask(id='e55f3eeb-5c63-3d05-97a4-f858a9fcb3e3', name='gen_exp', path=('__pregel_pull', 'gen_exp'), error=None, interrupts=(), state=None, result={'exp': 'The joke relies on a pun, playing on the double meaning of the word \"fluid\". Here\\'s the breakdown:\\n\\n* **Literal Meaning:** Water is literally a fluid, meaning it can flow and change shape easily.\\n* **Figurative Meaning:** \"Fluid\" can also describe someone who is very loose, adaptable, and perhaps a bit wild or uncontrolled in their movements, especially when dancing.\\n\\nThe joke implies that the water (personified at the party) was dancing in a way that was too free, wild, and potentially disruptive. Because water is *literally* fluid, the joke connects the literal and figurative meanings to create a humorous and unexpected explanation for why it was kicked out.'}),), interrupts=()),\n",
       " StateSnapshot(values={'topic': 'water', 'joke': 'Why did the water break up with the ice?\\n\\nBecause it felt like their relationship was going nowhere!', 'exp': 'Okay, here\\'s the breakdown of the joke:\\n\\n*   **The Setup:** \"Why did the water break up with the ice?\" This sets up a scenario where we\\'re anthropomorphizing water and ice, giving them a relationship.\\n\\n*   **The Punchline:** \"Because it felt like their relationship was going nowhere!\"\\n\\n*   **The Humor:** The humor lies in the double meaning of \"going nowhere.\"\\n\\n    *   **Literal Meaning:** Ice is stationary. It doesn\\'t move unless it\\'s melted or pushed. So, from the water\\'s perspective, the relationship is stagnant and not progressing.\\n\\n    *   **Figurative Meaning:** \"Going nowhere\" is a common idiom to describe a relationship that is not developing or heading towards a positive future.\\n\\nThe joke works because it cleverly combines the literal properties of water and ice with a common expression about relationships. The contrast between the physical reality and the emotional sentiment is what makes it funny.'}, next=(), config={'configurable': {'thread_id': '1', 'checkpoint_ns': '', 'checkpoint_id': '1f07044c-1c72-6ab3-8002-7466552e1c39'}}, metadata={'source': 'loop', 'step': 2, 'parents': {}, 'thread_id': '1'}, created_at='2025-08-03T08:35:05.962769+00:00', parent_config={'configurable': {'thread_id': '1', 'checkpoint_ns': '', 'checkpoint_id': '1f07044c-0d24-6a07-8001-84f20e25d7f8'}}, tasks=(), interrupts=()),\n",
       " StateSnapshot(values={'topic': 'water', 'joke': 'Why did the water break up with the ice?\\n\\nBecause it felt like their relationship was going nowhere!'}, next=('gen_exp',), config={'configurable': {'thread_id': '1', 'checkpoint_ns': '', 'checkpoint_id': '1f07044c-0d24-6a07-8001-84f20e25d7f8'}}, metadata={'source': 'loop', 'step': 1, 'parents': {}, 'thread_id': '1'}, created_at='2025-08-03T08:35:04.357939+00:00', parent_config={'configurable': {'thread_id': '1', 'checkpoint_ns': '', 'checkpoint_id': '1f07044b-fe0d-68de-8000-145123022ff3'}}, tasks=(PregelTask(id='10c25556-0d44-3fcd-f642-206b85f503a0', name='gen_exp', path=('__pregel_pull', 'gen_exp'), error=None, interrupts=(), state=None, result={'exp': 'Okay, here\\'s the breakdown of the joke:\\n\\n*   **The Setup:** \"Why did the water break up with the ice?\" This sets up a scenario where we\\'re anthropomorphizing water and ice, giving them a relationship.\\n\\n*   **The Punchline:** \"Because it felt like their relationship was going nowhere!\"\\n\\n*   **The Humor:** The humor lies in the double meaning of \"going nowhere.\"\\n\\n    *   **Literal Meaning:** Ice is stationary. It doesn\\'t move unless it\\'s melted or pushed. So, from the water\\'s perspective, the relationship is stagnant and not progressing.\\n\\n    *   **Figurative Meaning:** \"Going nowhere\" is a common idiom to describe a relationship that is not developing or heading towards a positive future.\\n\\nThe joke works because it cleverly combines the literal properties of water and ice with a common expression about relationships. The contrast between the physical reality and the emotional sentiment is what makes it funny.'}),), interrupts=()),\n",
       " StateSnapshot(values={'topic': 'water'}, next=('gen_joke',), config={'configurable': {'thread_id': '1', 'checkpoint_ns': '', 'checkpoint_id': '1f07044b-fe0d-68de-8000-145123022ff3'}}, metadata={'source': 'loop', 'step': 0, 'parents': {}, 'thread_id': '1'}, created_at='2025-08-03T08:35:02.775625+00:00', parent_config={'configurable': {'thread_id': '1', 'checkpoint_ns': '', 'checkpoint_id': '1f07044b-fe09-64b5-bfff-f6ecc850a348'}}, tasks=(PregelTask(id='f28b8583-180f-9e44-62cd-4b01e8cd1cae', name='gen_joke', path=('__pregel_pull', 'gen_joke'), error=None, interrupts=(), state=None, result={'joke': 'Why did the water break up with the ice?\\n\\nBecause it felt like their relationship was going nowhere!'}),), interrupts=()),\n",
       " StateSnapshot(values={}, next=('__start__',), config={'configurable': {'thread_id': '1', 'checkpoint_ns': '', 'checkpoint_id': '1f07044b-fe09-64b5-bfff-f6ecc850a348'}}, metadata={'source': 'input', 'step': -1, 'parents': {}, 'thread_id': '1'}, created_at='2025-08-03T08:35:02.773880+00:00', parent_config=None, tasks=(PregelTask(id='f83a0f52-8d1a-5d34-1075-fa1dcc8dac1a', name='__start__', path=('__pregel_pull', '__start__'), error=None, interrupts=(), state=None, result={'topic': 'water'}),), interrupts=())]"
      ]
     },
     "execution_count": 18,
     "metadata": {},
     "output_type": "execute_result"
    }
   ],
   "source": [
    "list(workflow.get_state_history(config1))\n"
   ]
  },
  {
   "cell_type": "code",
   "execution_count": 19,
   "id": "7258cb0e",
   "metadata": {},
   "outputs": [
    {
     "data": {
      "text/plain": [
       "{'topic': 'School',\n",
       " 'joke': 'Why did the bicycle fall over at school?\\n\\nBecause it was two tired!',\n",
       " 'exp': 'The joke plays on the double meaning of the word \"tired.\"\\n\\n*   **Literal meaning:** Bicycles have tires. If the bicycle has \"two tired\" (tires), that sounds like it has two tires that are worn out or deflated. This would make it difficult for the bicycle to stand up, causing it to fall over.\\n*   **Figurative meaning:** \"Tired\" can also mean exhausted or sleepy. The joke implies the bicycle is so exhausted from being at school that it simply couldn\\'t stay upright.\\n\\nThe humor comes from the pun, where the similar-sounding phrase \"too tired\" is cleverly replaced with \"two tired\" to create a silly image of a bicycle falling over because its tires are worn out or because it\\'s simply too sleepy from school.'}"
      ]
     },
     "execution_count": 19,
     "metadata": {},
     "output_type": "execute_result"
    }
   ],
   "source": [
    "workflow.invoke(None, {\"configurable\": {\"thread_id\": \"1\", \"checkpoint_id\": \"1f07044f-fc4a-661f-8001-82450a4d9c2c\"}})"
   ]
  },
  {
   "cell_type": "code",
   "execution_count": 20,
   "id": "f16e7239",
   "metadata": {},
   "outputs": [
    {
     "data": {
      "text/plain": [
       "[StateSnapshot(values={'topic': 'School', 'joke': 'Why did the bicycle fall over at school?\\n\\nBecause it was two tired!', 'exp': 'The joke plays on the double meaning of the word \"tired.\"\\n\\n*   **Literal meaning:** Bicycles have tires. If the bicycle has \"two tired\" (tires), that sounds like it has two tires that are worn out or deflated. This would make it difficult for the bicycle to stand up, causing it to fall over.\\n*   **Figurative meaning:** \"Tired\" can also mean exhausted or sleepy. The joke implies the bicycle is so exhausted from being at school that it simply couldn\\'t stay upright.\\n\\nThe humor comes from the pun, where the similar-sounding phrase \"too tired\" is cleverly replaced with \"two tired\" to create a silly image of a bicycle falling over because its tires are worn out or because it\\'s simply too sleepy from school.'}, next=(), config={'configurable': {'thread_id': '1', 'checkpoint_ns': '', 'checkpoint_id': '1f070450-b11e-6398-8003-eb744048ae8c'}}, metadata={'source': 'loop', 'step': 3, 'parents': {}, 'thread_id': '1'}, created_at='2025-08-03T08:37:08.926146+00:00', parent_config={'configurable': {'thread_id': '1', 'checkpoint_ns': '', 'checkpoint_id': '1f070450-a2d0-649b-8002-117dd07bce2e'}}, tasks=(), interrupts=()),\n",
       " StateSnapshot(values={'topic': 'School', 'joke': 'Why did the bicycle fall over at school?\\n\\nBecause it was two tired!'}, next=('gen_exp',), config={'configurable': {'thread_id': '1', 'checkpoint_ns': '', 'checkpoint_id': '1f070450-a2d0-649b-8002-117dd07bce2e'}}, metadata={'source': 'loop', 'step': 2, 'parents': {}, 'thread_id': '1'}, created_at='2025-08-03T08:37:07.426217+00:00', parent_config={'configurable': {'thread_id': '1', 'checkpoint_ns': '', 'checkpoint_id': '1f07044f-fc4a-661f-8001-82450a4d9c2c'}}, tasks=(PregelTask(id='5e0a6552-3ad3-b84c-5f74-7623e04061c9', name='gen_exp', path=('__pregel_pull', 'gen_exp'), error=None, interrupts=(), state=None, result={'exp': 'The joke plays on the double meaning of the word \"tired.\"\\n\\n*   **Literal meaning:** Bicycles have tires. If the bicycle has \"two tired\" (tires), that sounds like it has two tires that are worn out or deflated. This would make it difficult for the bicycle to stand up, causing it to fall over.\\n*   **Figurative meaning:** \"Tired\" can also mean exhausted or sleepy. The joke implies the bicycle is so exhausted from being at school that it simply couldn\\'t stay upright.\\n\\nThe humor comes from the pun, where the similar-sounding phrase \"too tired\" is cleverly replaced with \"two tired\" to create a silly image of a bicycle falling over because its tires are worn out or because it\\'s simply too sleepy from school.'}),), interrupts=()),\n",
       " StateSnapshot(values={'topic': 'School'}, next=('gen_joke',), config={'configurable': {'thread_id': '1', 'checkpoint_ns': '', 'checkpoint_id': '1f07044f-fc4a-661f-8001-82450a4d9c2c'}}, metadata={'source': 'update', 'step': 1, 'parents': {}, 'thread_id': '1'}, created_at='2025-08-03T08:36:49.965007+00:00', parent_config={'configurable': {'thread_id': '1', 'checkpoint_ns': '', 'checkpoint_id': '1f07044b-fe0d-68de-8000-145123022ff3'}}, tasks=(PregelTask(id='a08d75c3-34bc-ade0-629d-c1552c38c4e7', name='gen_joke', path=('__pregel_pull', 'gen_joke'), error=None, interrupts=(), state=None, result={'joke': 'Why did the bicycle fall over at school?\\n\\nBecause it was two tired!'}),), interrupts=()),\n",
       " StateSnapshot(values={'topic': 'water', 'joke': 'Why did the water get kicked out of the party?\\n\\nBecause it was being a little too fluid with its dance moves!', 'exp': 'The joke relies on a pun, playing on the double meaning of the word \"fluid\". Here\\'s the breakdown:\\n\\n* **Literal Meaning:** Water is literally a fluid, meaning it can flow and change shape easily.\\n* **Figurative Meaning:** \"Fluid\" can also describe someone who is very loose, adaptable, and perhaps a bit wild or uncontrolled in their movements, especially when dancing.\\n\\nThe joke implies that the water (personified at the party) was dancing in a way that was too free, wild, and potentially disruptive. Because water is *literally* fluid, the joke connects the literal and figurative meanings to create a humorous and unexpected explanation for why it was kicked out.'}, next=(), config={'configurable': {'thread_id': '1', 'checkpoint_ns': '', 'checkpoint_id': '1f07044f-6dc0-6899-8002-42e0e96479f5'}}, metadata={'source': 'loop', 'step': 2, 'parents': {}, 'thread_id': '1'}, created_at='2025-08-03T08:36:35.018767+00:00', parent_config={'configurable': {'thread_id': '1', 'checkpoint_ns': '', 'checkpoint_id': '1f07044f-613e-6f05-8001-7465cc94c89d'}}, tasks=(), interrupts=()),\n",
       " StateSnapshot(values={'topic': 'water', 'joke': 'Why did the water get kicked out of the party?\\n\\nBecause it was being a little too fluid with its dance moves!'}, next=('gen_exp',), config={'configurable': {'thread_id': '1', 'checkpoint_ns': '', 'checkpoint_id': '1f07044f-613e-6f05-8001-7465cc94c89d'}}, metadata={'source': 'loop', 'step': 1, 'parents': {}, 'thread_id': '1'}, created_at='2025-08-03T08:36:33.707392+00:00', parent_config={'configurable': {'thread_id': '1', 'checkpoint_ns': '', 'checkpoint_id': '1f07044b-fe0d-68de-8000-145123022ff3'}}, tasks=(PregelTask(id='e55f3eeb-5c63-3d05-97a4-f858a9fcb3e3', name='gen_exp', path=('__pregel_pull', 'gen_exp'), error=None, interrupts=(), state=None, result={'exp': 'The joke relies on a pun, playing on the double meaning of the word \"fluid\". Here\\'s the breakdown:\\n\\n* **Literal Meaning:** Water is literally a fluid, meaning it can flow and change shape easily.\\n* **Figurative Meaning:** \"Fluid\" can also describe someone who is very loose, adaptable, and perhaps a bit wild or uncontrolled in their movements, especially when dancing.\\n\\nThe joke implies that the water (personified at the party) was dancing in a way that was too free, wild, and potentially disruptive. Because water is *literally* fluid, the joke connects the literal and figurative meanings to create a humorous and unexpected explanation for why it was kicked out.'}),), interrupts=()),\n",
       " StateSnapshot(values={'topic': 'water', 'joke': 'Why did the water break up with the ice?\\n\\nBecause it felt like their relationship was going nowhere!', 'exp': 'Okay, here\\'s the breakdown of the joke:\\n\\n*   **The Setup:** \"Why did the water break up with the ice?\" This sets up a scenario where we\\'re anthropomorphizing water and ice, giving them a relationship.\\n\\n*   **The Punchline:** \"Because it felt like their relationship was going nowhere!\"\\n\\n*   **The Humor:** The humor lies in the double meaning of \"going nowhere.\"\\n\\n    *   **Literal Meaning:** Ice is stationary. It doesn\\'t move unless it\\'s melted or pushed. So, from the water\\'s perspective, the relationship is stagnant and not progressing.\\n\\n    *   **Figurative Meaning:** \"Going nowhere\" is a common idiom to describe a relationship that is not developing or heading towards a positive future.\\n\\nThe joke works because it cleverly combines the literal properties of water and ice with a common expression about relationships. The contrast between the physical reality and the emotional sentiment is what makes it funny.'}, next=(), config={'configurable': {'thread_id': '1', 'checkpoint_ns': '', 'checkpoint_id': '1f07044c-1c72-6ab3-8002-7466552e1c39'}}, metadata={'source': 'loop', 'step': 2, 'parents': {}, 'thread_id': '1'}, created_at='2025-08-03T08:35:05.962769+00:00', parent_config={'configurable': {'thread_id': '1', 'checkpoint_ns': '', 'checkpoint_id': '1f07044c-0d24-6a07-8001-84f20e25d7f8'}}, tasks=(), interrupts=()),\n",
       " StateSnapshot(values={'topic': 'water', 'joke': 'Why did the water break up with the ice?\\n\\nBecause it felt like their relationship was going nowhere!'}, next=('gen_exp',), config={'configurable': {'thread_id': '1', 'checkpoint_ns': '', 'checkpoint_id': '1f07044c-0d24-6a07-8001-84f20e25d7f8'}}, metadata={'source': 'loop', 'step': 1, 'parents': {}, 'thread_id': '1'}, created_at='2025-08-03T08:35:04.357939+00:00', parent_config={'configurable': {'thread_id': '1', 'checkpoint_ns': '', 'checkpoint_id': '1f07044b-fe0d-68de-8000-145123022ff3'}}, tasks=(PregelTask(id='10c25556-0d44-3fcd-f642-206b85f503a0', name='gen_exp', path=('__pregel_pull', 'gen_exp'), error=None, interrupts=(), state=None, result={'exp': 'Okay, here\\'s the breakdown of the joke:\\n\\n*   **The Setup:** \"Why did the water break up with the ice?\" This sets up a scenario where we\\'re anthropomorphizing water and ice, giving them a relationship.\\n\\n*   **The Punchline:** \"Because it felt like their relationship was going nowhere!\"\\n\\n*   **The Humor:** The humor lies in the double meaning of \"going nowhere.\"\\n\\n    *   **Literal Meaning:** Ice is stationary. It doesn\\'t move unless it\\'s melted or pushed. So, from the water\\'s perspective, the relationship is stagnant and not progressing.\\n\\n    *   **Figurative Meaning:** \"Going nowhere\" is a common idiom to describe a relationship that is not developing or heading towards a positive future.\\n\\nThe joke works because it cleverly combines the literal properties of water and ice with a common expression about relationships. The contrast between the physical reality and the emotional sentiment is what makes it funny.'}),), interrupts=()),\n",
       " StateSnapshot(values={'topic': 'water'}, next=('gen_joke',), config={'configurable': {'thread_id': '1', 'checkpoint_ns': '', 'checkpoint_id': '1f07044b-fe0d-68de-8000-145123022ff3'}}, metadata={'source': 'loop', 'step': 0, 'parents': {}, 'thread_id': '1'}, created_at='2025-08-03T08:35:02.775625+00:00', parent_config={'configurable': {'thread_id': '1', 'checkpoint_ns': '', 'checkpoint_id': '1f07044b-fe09-64b5-bfff-f6ecc850a348'}}, tasks=(PregelTask(id='f28b8583-180f-9e44-62cd-4b01e8cd1cae', name='gen_joke', path=('__pregel_pull', 'gen_joke'), error=None, interrupts=(), state=None, result={'joke': 'Why did the water break up with the ice?\\n\\nBecause it felt like their relationship was going nowhere!'}),), interrupts=()),\n",
       " StateSnapshot(values={}, next=('__start__',), config={'configurable': {'thread_id': '1', 'checkpoint_ns': '', 'checkpoint_id': '1f07044b-fe09-64b5-bfff-f6ecc850a348'}}, metadata={'source': 'input', 'step': -1, 'parents': {}, 'thread_id': '1'}, created_at='2025-08-03T08:35:02.773880+00:00', parent_config=None, tasks=(PregelTask(id='f83a0f52-8d1a-5d34-1075-fa1dcc8dac1a', name='__start__', path=('__pregel_pull', '__start__'), error=None, interrupts=(), state=None, result={'topic': 'water'}),), interrupts=())]"
      ]
     },
     "execution_count": 20,
     "metadata": {},
     "output_type": "execute_result"
    }
   ],
   "source": [
    "list(workflow.get_state_history(config1))\n"
   ]
  },
  {
   "cell_type": "markdown",
   "id": "7d8828d1",
   "metadata": {},
   "source": [
    "### Fault Tolerance\n"
   ]
  },
  {
   "cell_type": "code",
   "execution_count": null,
   "id": "9032f876",
   "metadata": {},
   "outputs": [],
   "source": [
    "\n",
    "from langgraph.graph import StateGraph, END\n",
    "from langgraph.checkpoint.memory import InMemorySaver\n",
    "from typing import TypedDict\n",
    "import time"
   ]
  },
  {
   "cell_type": "code",
   "execution_count": null,
   "id": "32d1e6bd",
   "metadata": {},
   "outputs": [],
   "source": [
    "\n",
    "# 1. Define the state\n",
    "class CrashState(TypedDict):\n",
    "    input: str\n",
    "    step1: str\n",
    "    step2: str"
   ]
  },
  {
   "cell_type": "code",
   "execution_count": null,
   "id": "0b91d663",
   "metadata": {},
   "outputs": [],
   "source": [
    "\n",
    "# 2. Define steps\n",
    "def step_1(state: CrashState) -> CrashState:\n",
    "    print(\"✅ Step 1 executed\")\n",
    "    return {\"step1\": \"done\", \"input\": state[\"input\"]}\n",
    "\n",
    "def step_2(state: CrashState) -> CrashState:\n",
    "    print(\"⏳ Step 2 hanging... now manually interrupt from the notebook toolbar (STOP button)\")\n",
    "    time.sleep(1000)  # Simulate long-running hang\n",
    "    return {\"step2\": \"done\"}\n",
    "\n",
    "def step_3(state: CrashState) -> CrashState:\n",
    "    print(\"✅ Step 3 executed\")\n",
    "    return {\"done\": True}"
   ]
  },
  {
   "cell_type": "code",
   "execution_count": null,
   "id": "fe0000a5",
   "metadata": {},
   "outputs": [],
   "source": [
    "# 3. Build the graph\n",
    "builder = StateGraph(CrashState)\n",
    "builder.add_node(\"step_1\", step_1)\n",
    "builder.add_node(\"step_2\", step_2)\n",
    "builder.add_node(\"step_3\", step_3)\n",
    "\n",
    "builder.set_entry_point(\"step_1\")\n",
    "builder.add_edge(\"step_1\", \"step_2\")\n",
    "builder.add_edge(\"step_2\", \"step_3\")\n",
    "builder.add_edge(\"step_3\", END)\n",
    "\n",
    "checkpointer = InMemorySaver()\n",
    "graph = builder.compile(checkpointer=checkpointer)"
   ]
  },
  {
   "cell_type": "code",
   "execution_count": null,
   "id": "65672787",
   "metadata": {},
   "outputs": [
    {
     "name": "stdout",
     "output_type": "stream",
     "text": [
      "▶️ Running graph: Please manually interrupt during Step 2...\n",
      "✅ Step 1 executed\n",
      "⏳ Step 2 hanging... now manually interrupt from the notebook toolbar (STOP button)\n"
     ]
    }
   ],
   "source": [
    "\n",
    "try:\n",
    "    print(\"▶️ Running graph: Please manually interrupt during Step 2...\")\n",
    "    graph.invoke({\"input\": \"start\"}, config={\"configurable\": {\"thread_id\": 'thread-1'}})\n",
    "except KeyboardInterrupt:\n",
    "    print(\"❌ Kernel manually interrupted (crash simulated).\")"
   ]
  },
  {
   "cell_type": "code",
   "execution_count": null,
   "id": "3d723aaf",
   "metadata": {},
   "outputs": [],
   "source": [
    "\n",
    "# 6. Re-run to show fault-tolerant resume\n",
    "print(\"\\n🔁 Re-running the graph to demonstrate fault tolerance...\")\n",
    "final_state = graph.invoke(None, config={\"configurable\": {\"thread_id\": 'thread-1'}})\n",
    "print(\"\\n✅ Final State:\", final_state)"
   ]
  },
  {
   "cell_type": "code",
   "execution_count": null,
   "id": "457adb04",
   "metadata": {},
   "outputs": [],
   "source": [
    "list(graph.get_state_history({\"configurable\": {\"thread_id\": 'thread-1'}}))"
   ]
  }
 ],
 "metadata": {
  "kernelspec": {
   "display_name": "langenv",
   "language": "python",
   "name": "python3"
  },
  "language_info": {
   "codemirror_mode": {
    "name": "ipython",
    "version": 3
   },
   "file_extension": ".py",
   "mimetype": "text/x-python",
   "name": "python",
   "nbconvert_exporter": "python",
   "pygments_lexer": "ipython3",
   "version": "3.10.0"
  }
 },
 "nbformat": 4,
 "nbformat_minor": 5
}
